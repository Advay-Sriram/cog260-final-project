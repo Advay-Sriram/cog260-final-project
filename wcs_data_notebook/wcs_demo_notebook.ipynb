{
 "cells": [
  {
   "cell_type": "markdown",
   "metadata": {
    "collapsed": true
   },
   "source": [
    "# Demos for analyzing World Color Survey (WCS)\n",
    "\n",
    "COG 260: Data, Computation, and The Mind (Yang Xu)\n",
    "\n",
    "Data source: http://www1.icsi.berkeley.edu/wcs/data.html\n",
    "\n",
    "______________________________________________\n",
    "\n",
    "Import helper function file for WCS data analysis."
   ]
  },
  {
   "cell_type": "code",
   "execution_count": 49,
   "metadata": {},
   "outputs": [],
   "source": [
    "from wcs_helper_functions import *"
   ]
  },
  {
   "cell_type": "markdown",
   "metadata": {},
   "source": [
    "Import relevant Python libraries."
   ]
  },
  {
   "cell_type": "code",
   "execution_count": 50,
   "metadata": {},
   "outputs": [],
   "source": [
    "import numpy as np\n",
    "from scipy import stats\n",
    "from random import random\n",
    "%matplotlib inline"
   ]
  },
  {
   "cell_type": "markdown",
   "metadata": {},
   "source": [
    "## Demo 1: Import stimulus (color chip) information in [Munsell space](https://en.wikipedia.org/wiki/Munsell_color_system)\n",
    "\n",
    "> Stimuli were 330 color chips in Munsell space, each defined along lightness and hue dimensions.\n",
    "\n",
    "> Each color chip has an index _(from 1 to 330)_ and a coordinate (lightness *(alphabet)*, hue *(integer)*).\n",
    "\n",
    "In the following section, you will learn how to convert from **(a) index to coordinate** and **(b) coordinate to index**.\n",
    "\n",
    "______________________________________________\n",
    "\n",
    "Load chip information in Munsell space. \n",
    "\n",
    "`munsellInfo` is a 2-element tuple with dictionary elements."
   ]
  },
  {
   "cell_type": "code",
   "execution_count": 51,
   "metadata": {},
   "outputs": [],
   "source": [
    "munsellInfo = readChipData('./WCS_data_core/chip.txt');"
   ]
  },
  {
   "cell_type": "markdown",
   "metadata": {},
   "source": [
    "### (a) Index &rarr; Coordinate"
   ]
  },
  {
   "cell_type": "markdown",
   "metadata": {},
   "source": [
    "Access the second dictionary in `munsellInfo`."
   ]
  },
  {
   "cell_type": "code",
   "execution_count": 52,
   "metadata": {},
   "outputs": [],
   "source": [
    "indexCoord = munsellInfo[1]"
   ]
  },
  {
   "cell_type": "markdown",
   "metadata": {},
   "source": [
    "`indexCoord` is a dictionary with **index _(key)_ &rarr; coordinate _(value)_** pairs. For example, to retrieve the Munsell coordinate _(lightness, hue)_ for chip with numerical index 1:"
   ]
  },
  {
   "cell_type": "code",
   "execution_count": 53,
   "metadata": {},
   "outputs": [
    {
     "name": "stdout",
     "output_type": "stream",
     "text": [
      "('E', '29')\n"
     ]
    }
   ],
   "source": [
    "print(indexCoord[1])"
   ]
  },
  {
   "cell_type": "markdown",
   "metadata": {},
   "source": [
    "You can also uncomment the following to display full stimulus information (long)."
   ]
  },
  {
   "cell_type": "code",
   "execution_count": 54,
   "metadata": {},
   "outputs": [],
   "source": [
    "# print(indexCoord)"
   ]
  },
  {
   "cell_type": "markdown",
   "metadata": {},
   "source": [
    "### (b) Coordinate &rarr; Index"
   ]
  },
  {
   "cell_type": "markdown",
   "metadata": {},
   "source": [
    "Access the first dictionary in `munsellInfo`."
   ]
  },
  {
   "cell_type": "code",
   "execution_count": 55,
   "metadata": {},
   "outputs": [],
   "source": [
    "coordIndex = munsellInfo[0]"
   ]
  },
  {
   "cell_type": "markdown",
   "metadata": {},
   "source": [
    "`coordIndex` is a dictionary with **coordinate _(key)_ &rarr; index _(value)_** pairs. For example, to access numerical index for the color chip at Munsell coordinate _(D, 11)_:"
   ]
  },
  {
   "cell_type": "code",
   "execution_count": 56,
   "metadata": {},
   "outputs": [
    {
     "name": "stdout",
     "output_type": "stream",
     "text": [
      "258\n"
     ]
    }
   ],
   "source": [
    "print(coordIndex['D11'])"
   ]
  },
  {
   "cell_type": "markdown",
   "metadata": {},
   "source": [
    "You can also uncomment the following to display full stimulus information (long)."
   ]
  },
  {
   "cell_type": "code",
   "execution_count": 57,
   "metadata": {},
   "outputs": [],
   "source": [
    "# print(coordIndex)"
   ]
  },
  {
   "cell_type": "markdown",
   "metadata": {},
   "source": [
    "## Demo 2: Import stimulus information in [CIELAB space](https://en.wikipedia.org/wiki/Lab_color_space)\n",
    "\n",
    "> Each of the 330 stimuli can also be mapped to the 3D CIELAB space, where the dimensions are `l` _(lightness)_, `a`, & `b` _(color opponency)_.\n",
    "\n",
    "> CIELAB Coordinates have a **one-to-one** correspondence with Munsell index, which ranges from 1 to 330.\n",
    "\n",
    "______________________________________________\n",
    "\n",
    "Load chip coordinates in CIELAB. \n",
    "\n",
    "`cielabCoord` is a dictionary with **index _(key)_ &rarr; CIELAB Coordinate _(value)_** pairs."
   ]
  },
  {
   "cell_type": "code",
   "execution_count": 58,
   "metadata": {},
   "outputs": [],
   "source": [
    "cielabCoord = readClabData('./WCS_data_core/cnum-vhcm-lab-new.txt')"
   ]
  },
  {
   "cell_type": "markdown",
   "metadata": {},
   "source": [
    "For example, to obtain the CIELAB coordinates for chip with numerical index 1:"
   ]
  },
  {
   "cell_type": "code",
   "execution_count": 59,
   "metadata": {},
   "outputs": [
    {
     "name": "stdout",
     "output_type": "stream",
     "text": [
      "('61.70', '-4.52', '-39.18')\n"
     ]
    }
   ],
   "source": [
    "print(cielabCoord[1])"
   ]
  },
  {
   "cell_type": "markdown",
   "metadata": {},
   "source": [
    "## Demo 3: Import color naming data\n",
    "    \n",
    "> Each of the 330 color chips was named by speakers of 110 different languages.\n",
    "\n",
    "______________________________________________\n",
    "\n",
    "Load naming data. \n",
    "\n",
    "`namingData` is a hierarchical dictionary organized as follows:\n",
    "\n",
    "**language _(1 - 110)_ &rarr; speaker _(1 - *range varies per language*)_ &rarr; chip index _(1 - 330)_ &rarr; color term**"
   ]
  },
  {
   "cell_type": "code",
   "execution_count": 60,
   "metadata": {},
   "outputs": [],
   "source": [
    "namingData = readNamingData('./WCS_data_core/term.txt')"
   ]
  },
  {
   "cell_type": "markdown",
   "metadata": {},
   "source": [
    "For example, to obtain naming data from language 1 and speaker 1 for all 330 color chips:"
   ]
  },
  {
   "cell_type": "code",
   "execution_count": 61,
   "metadata": {},
   "outputs": [],
   "source": [
    "namingData[1][4]; # remove semicolon to see data in full"
   ]
  },
  {
   "cell_type": "markdown",
   "metadata": {},
   "source": [
    "For example, to see how many speakers language 1 has:"
   ]
  },
  {
   "cell_type": "code",
   "execution_count": 62,
   "metadata": {},
   "outputs": [
    {
     "data": {
      "text/plain": [
       "25"
      ]
     },
     "execution_count": 62,
     "metadata": {},
     "output_type": "execute_result"
    }
   ],
   "source": [
    "len(namingData[1])"
   ]
  },
  {
   "cell_type": "markdown",
   "metadata": {},
   "source": [
    "## Demo 4: Import color foci data\n",
    "    \n",
    "> Apart from naming the color chips, each speaker also pointed to foci color chips for each color term they had used.\n",
    "\n",
    "> **Note**: A single color term may have multiple foci locations.\n",
    "\n",
    "______________________________________________\n",
    "\n",
    "Load foci data. \n",
    "\n",
    "`fociData` is a hierarchical dictionary organized as follows: \n",
    "\n",
    "**language _(1 - 110)_ &rarr; speaker _(1 - *range varies per language*)_ &rarr; color term &rarr; foci coordinates**"
   ]
  },
  {
   "cell_type": "code",
   "execution_count": 63,
   "metadata": {},
   "outputs": [],
   "source": [
    "fociData = readFociData('./WCS_data_core/foci-exp.txt');"
   ]
  },
  {
   "cell_type": "markdown",
   "metadata": {},
   "source": [
    "For example, to obtain foci data for language 1 and speaker 1, where each entry shows foci locations for given term: "
   ]
  },
  {
   "cell_type": "code",
   "execution_count": 135,
   "metadata": {},
   "outputs": [
    {
     "data": {
      "text/plain": [
       "{'AS': ['C:4', 'C:5', 'C:6'],\n",
       " 'CA': ['F:19', 'F:20', 'F:21', 'G:19', 'G:20', 'G:21'],\n",
       " 'FE': ['C:8', 'C:9', 'C:10'],\n",
       " 'FS': ['G:1', 'G:2', 'G:3'],\n",
       " 'MA': ['E:38', 'E:39', 'E:40']}"
      ]
     },
     "execution_count": 135,
     "metadata": {},
     "output_type": "execute_result"
    }
   ],
   "source": [
    "fociData[86][2]"
   ]
  },
  {
   "cell_type": "markdown",
   "metadata": {},
   "source": [
    "In the above example, foci for term 'LF' is located at coordinate _(A, 0)_ in the Munsell chart."
   ]
  },
  {
   "cell_type": "markdown",
   "metadata": {},
   "source": [
    "## Demo 5: Import speaker demographic information\n",
    "\n",
    "> Most speakers' age _(integer)_ and gender _(M/F)_ information was recorded.\n",
    "\n",
    "______________________________________________\n",
    "\n",
    "Load speaker information.\n",
    "\n",
    "`speakerInfo` is a hierarchical dictionary organized as follows:\n",
    "\n",
    "**language &rarr; speaker &rarr; (age, gender)**"
   ]
  },
  {
   "cell_type": "code",
   "execution_count": 65,
   "metadata": {},
   "outputs": [],
   "source": [
    "speakerInfo = readSpeakerData('./WCS_data_core/spkr-lsas.txt')"
   ]
  },
  {
   "cell_type": "markdown",
   "metadata": {},
   "source": [
    "For example, uncomment the following line to access _(age, gender)_ information for all speakers from language 1:"
   ]
  },
  {
   "cell_type": "code",
   "execution_count": 145,
   "metadata": {},
   "outputs": [
    {
     "name": "stdout",
     "output_type": "stream",
     "text": [
      "0.32\n"
     ]
    }
   ],
   "source": [
    "maleSpeakerArray = []\n",
    "femaleSpeakerArray = []\n",
    "termsChipsRatio = np.zeros((110, 110))\n",
    "for language in range(1,len(speakerInfo)+1):\n",
    "    for speaker in range(1,len(speakerInfo[language])+1):\n",
    "        chipsShown = 0\n",
    "        try:\n",
    "            for key in fociData[language][speaker].keys():\n",
    "                chipsShown += len(fociData[language][speaker][key])\n",
    "            termsChipsRatio[language][speaker] = np.divide(len(fociData[language][speaker].keys()), chipsShown) \n",
    "            if speakerInfo[language][speaker][0][1] == 'M':\n",
    "                appendString = [language, speaker, termsChipsRatio[language][speaker]]\n",
    "                # \"language: \" + str(language) + \" speaker: \" + str(speaker) + \" ratio: \" + str(termsChipsRatio[language][speaker])\n",
    "                maleSpeakerArray.append(appendString)\n",
    "            elif speakerInfo[language][speaker][0][1] == 'F':\n",
    "                appendString = [language, speaker, termsChipsRatio[language][speaker]]\n",
    "                #\"language: \" + str(language) + \" speaker: \" + str(speaker) + \" ratio: \" + str(termsChipsRatio[language][speaker])\n",
    "                femaleSpeakerArray.append(appendString)\n",
    "        except:\n",
    "            pass\n",
    "print(femaleSpeakerArray[1][2])\n"
   ]
  },
  {
   "cell_type": "markdown",
   "metadata": {},
   "source": [
    "For example, uncomment the following line to access _(age, gender)_ information for speaker 1 from language 1:"
   ]
  },
  {
   "cell_type": "code",
   "execution_count": null,
   "metadata": {},
   "outputs": [],
   "source": [
    " for language in range(1,len(speakerInfo)):\n",
    "     for speaker in range(1,len(speakerInfo[language])):\n",
    "         if(len(speakerInfo[language][speaker]) > 1):\n",
    "             print(\"bad news\")\n",
    " speakerInfo[1][1]"
   ]
  },
  {
   "cell_type": "code",
   "execution_count": null,
   "metadata": {},
   "outputs": [],
   "source": []
  },
  {
   "cell_type": "markdown",
   "metadata": {},
   "source": [
    "## Demo 6: Visualize color naming from an individual speaker\n",
    "\n",
    "> Naming patterns from a speaker can be visualized in the stimulus palette _(Munsell space)_.\n",
    "\n",
    "______________________________________________\n",
    "\n",
    "Extract an example speaker datum from an example language."
   ]
  },
  {
   "cell_type": "code",
   "execution_count": null,
   "metadata": {},
   "outputs": [],
   "source": [
    "lg61_spk5 = namingData[61][5]"
   ]
  },
  {
   "cell_type": "markdown",
   "metadata": {},
   "source": [
    "Extract color terms used by that speaker."
   ]
  },
  {
   "cell_type": "code",
   "execution_count": null,
   "metadata": {},
   "outputs": [],
   "source": [
    "terms = lg61_spk5.values()"
   ]
  },
  {
   "cell_type": "markdown",
   "metadata": {},
   "source": [
    "Encode the color terms into random numbers (for plotting purposes)."
   ]
  },
  {
   "cell_type": "code",
   "execution_count": null,
   "metadata": {},
   "outputs": [],
   "source": [
    "encoded_terms = map_array_to(terms, generate_random_values(terms))"
   ]
  },
  {
   "cell_type": "markdown",
   "metadata": {},
   "source": [
    "Visualize the color naming pattern for that speaker&mdash;each color patch corresponds to extension of a color term. Color scheme is randomized, but the partition of the color space is invariant."
   ]
  },
  {
   "cell_type": "code",
   "execution_count": null,
   "metadata": {},
   "outputs": [],
   "source": [
    "plotValues(encoded_terms)"
   ]
  },
  {
   "cell_type": "markdown",
   "metadata": {},
   "source": [
    "**Note**: `plotValues()` is a generic function for visualizing various kinds of information on the chart, suited to needs."
   ]
  },
  {
   "cell_type": "markdown",
   "metadata": {},
   "source": [
    "Now you are in a position to start exploring this data set - enjoy!"
   ]
  },
  {
   "cell_type": "code",
   "execution_count": null,
   "metadata": {},
   "outputs": [],
   "source": []
  }
 ],
 "metadata": {
  "anaconda-cloud": {},
  "kernelspec": {
   "display_name": "Python 3",
   "language": "python",
   "name": "python3"
  },
  "language_info": {
   "codemirror_mode": {
    "name": "ipython",
    "version": 3
   },
   "file_extension": ".py",
   "mimetype": "text/x-python",
   "name": "python",
   "nbconvert_exporter": "python",
   "pygments_lexer": "ipython3",
   "version": "3.5.2"
  }
 },
 "nbformat": 4,
 "nbformat_minor": 1
}

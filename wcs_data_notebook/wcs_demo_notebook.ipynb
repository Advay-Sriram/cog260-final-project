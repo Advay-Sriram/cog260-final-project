{
 "cells": [
  {
   "cell_type": "markdown",
   "metadata": {
    "collapsed": true
   },
   "source": [
    "# Demos for analyzing World Color Survey (WCS)\n",
    "\n",
    "COG 260: Data, Computation, and The Mind (Yang Xu)\n",
    "\n",
    "Data source: http://www1.icsi.berkeley.edu/wcs/data.html\n",
    "\n",
    "______________________________________________\n",
    "\n",
    "Import helper function file for WCS data analysis."
   ]
  },
  {
   "cell_type": "code",
   "execution_count": 433,
   "metadata": {},
   "outputs": [],
   "source": [
    "from wcs_helper_functions import *"
   ]
  },
  {
   "cell_type": "markdown",
   "metadata": {},
   "source": [
    "Import relevant Python libraries."
   ]
  },
  {
   "cell_type": "code",
   "execution_count": 434,
   "metadata": {},
   "outputs": [],
   "source": [
    "import numpy as np\n",
    "from scipy import stats\n",
    "from random import random\n",
    "%matplotlib inline"
   ]
  },
  {
   "cell_type": "markdown",
   "metadata": {},
   "source": [
    "## Demo 1: Import stimulus (color chip) information in [Munsell space](https://en.wikipedia.org/wiki/Munsell_color_system)\n",
    "\n",
    "> Stimuli were 330 color chips in Munsell space, each defined along lightness and hue dimensions.\n",
    "\n",
    "> Each color chip has an index _(from 1 to 330)_ and a coordinate (lightness *(alphabet)*, hue *(integer)*).\n",
    "\n",
    "In the following section, you will learn how to convert from **(a) index to coordinate** and **(b) coordinate to index**.\n",
    "\n",
    "______________________________________________\n",
    "\n",
    "Load chip information in Munsell space. \n",
    "\n",
    "`munsellInfo` is a 2-element tuple with dictionary elements."
   ]
  },
  {
   "cell_type": "code",
   "execution_count": 435,
   "metadata": {},
   "outputs": [],
   "source": [
    "munsellInfo = readChipData('./WCS_data_core/chip.txt');"
   ]
  },
  {
   "cell_type": "markdown",
   "metadata": {},
   "source": [
    "### (a) Index &rarr; Coordinate"
   ]
  },
  {
   "cell_type": "markdown",
   "metadata": {},
   "source": [
    "Access the second dictionary in `munsellInfo`."
   ]
  },
  {
   "cell_type": "code",
   "execution_count": 436,
   "metadata": {},
   "outputs": [],
   "source": [
    "indexCoord = munsellInfo[1]"
   ]
  },
  {
   "cell_type": "markdown",
   "metadata": {},
   "source": [
    "`indexCoord` is a dictionary with **index _(key)_ &rarr; coordinate _(value)_** pairs. For example, to retrieve the Munsell coordinate _(lightness, hue)_ for chip with numerical index 1:"
   ]
  },
  {
   "cell_type": "code",
   "execution_count": 437,
   "metadata": {},
   "outputs": [
    {
     "name": "stdout",
     "output_type": "stream",
     "text": "('E', '29')\n"
    }
   ],
   "source": [
    "print(indexCoord[1])"
   ]
  },
  {
   "cell_type": "markdown",
   "metadata": {},
   "source": [
    "You can also uncomment the following to display full stimulus information (long)."
   ]
  },
  {
   "cell_type": "code",
   "execution_count": 438,
   "metadata": {},
   "outputs": [],
   "source": [
    "# print(indexCoord)"
   ]
  },
  {
   "cell_type": "markdown",
   "metadata": {},
   "source": [
    "### (b) Coordinate &rarr; Index"
   ]
  },
  {
   "cell_type": "markdown",
   "metadata": {},
   "source": [
    "Access the first dictionary in `munsellInfo`."
   ]
  },
  {
   "cell_type": "code",
   "execution_count": 439,
   "metadata": {},
   "outputs": [],
   "source": [
    "coordIndex = munsellInfo[0]"
   ]
  },
  {
   "cell_type": "markdown",
   "metadata": {},
   "source": [
    "`coordIndex` is a dictionary with **coordinate _(key)_ &rarr; index _(value)_** pairs. For example, to access numerical index for the color chip at Munsell coordinate _(D, 11)_:"
   ]
  },
  {
   "cell_type": "code",
   "execution_count": 440,
   "metadata": {},
   "outputs": [
    {
     "name": "stdout",
     "output_type": "stream",
     "text": "258\n"
    }
   ],
   "source": [
    "print(coordIndex['D11'])"
   ]
  },
  {
   "cell_type": "markdown",
   "metadata": {},
   "source": [
    "You can also uncomment the following to display full stimulus information (long)."
   ]
  },
  {
   "cell_type": "code",
   "execution_count": 441,
   "metadata": {},
   "outputs": [],
   "source": [
    "# print(coordIndex)"
   ]
  },
  {
   "cell_type": "markdown",
   "metadata": {},
   "source": [
    "## Demo 2: Import stimulus information in [CIELAB space](https://en.wikipedia.org/wiki/Lab_color_space)\n",
    "\n",
    "> Each of the 330 stimuli can also be mapped to the 3D CIELAB space, where the dimensions are `l` _(lightness)_, `a`, & `b` _(color opponency)_.\n",
    "\n",
    "> CIELAB Coordinates have a **one-to-one** correspondence with Munsell index, which ranges from 1 to 330.\n",
    "\n",
    "______________________________________________\n",
    "\n",
    "Load chip coordinates in CIELAB. \n",
    "\n",
    "`cielabCoord` is a dictionary with **index _(key)_ &rarr; CIELAB Coordinate _(value)_** pairs."
   ]
  },
  {
   "cell_type": "code",
   "execution_count": 442,
   "metadata": {},
   "outputs": [],
   "source": [
    "cielabCoord = readClabData('./WCS_data_core/cnum-vhcm-lab-new.txt')"
   ]
  },
  {
   "cell_type": "markdown",
   "metadata": {},
   "source": [
    "For example, to obtain the CIELAB coordinates for chip with numerical index 1:"
   ]
  },
  {
   "cell_type": "code",
   "execution_count": 443,
   "metadata": {},
   "outputs": [
    {
     "name": "stdout",
     "output_type": "stream",
     "text": "('61.70', '-4.52', '-39.18')\n"
    }
   ],
   "source": [
    "print(cielabCoord[1])"
   ]
  },
  {
   "cell_type": "markdown",
   "metadata": {},
   "source": [
    "## Demo 3: Import color naming data\n",
    "    \n",
    "> Each of the 330 color chips was named by speakers of 110 different languages.\n",
    "\n",
    "______________________________________________\n",
    "\n",
    "Load naming data. \n",
    "\n",
    "`namingData` is a hierarchical dictionary organized as follows:\n",
    "\n",
    "**language _(1 - 110)_ &rarr; speaker _(1 - *range varies per language*)_ &rarr; chip index _(1 - 330)_ &rarr; color term**"
   ]
  },
  {
   "cell_type": "code",
   "execution_count": 444,
   "metadata": {},
   "outputs": [],
   "source": [
    "namingData = readNamingData('./WCS_data_core/term.txt')"
   ]
  },
  {
   "cell_type": "markdown",
   "metadata": {},
   "source": [
    "For example, to obtain naming data from language 1 and speaker 1 for all 330 color chips:"
   ]
  },
  {
   "cell_type": "code",
   "execution_count": 445,
   "metadata": {},
   "outputs": [],
   "source": [
    "namingData[1][4]; # remove semicolon to see data in full"
   ]
  },
  {
   "cell_type": "markdown",
   "metadata": {},
   "source": [
    "For example, to see how many speakers language 1 has:"
   ]
  },
  {
   "cell_type": "code",
   "execution_count": 446,
   "metadata": {},
   "outputs": [
    {
     "data": {
      "text/plain": "25"
     },
     "execution_count": 446,
     "metadata": {},
     "output_type": "execute_result"
    }
   ],
   "source": [
    "len(namingData[1])"
   ]
  },
  {
   "cell_type": "markdown",
   "metadata": {},
   "source": [
    "## Demo 4: Import color foci data\n",
    "    \n",
    "> Apart from naming the color chips, each speaker also pointed to foci color chips for each color term they had used.\n",
    "\n",
    "> **Note**: A single color term may have multiple foci locations.\n",
    "\n",
    "______________________________________________\n",
    "\n",
    "Load foci data. \n",
    "\n",
    "`fociData` is a hierarchical dictionary organized as follows: \n",
    "\n",
    "**language _(1 - 110)_ &rarr; speaker _(1 - *range varies per language*)_ &rarr; color term &rarr; foci coordinates**"
   ]
  },
  {
   "cell_type": "code",
   "execution_count": 447,
   "metadata": {},
   "outputs": [],
   "source": [
    "fociData = readFociData('./WCS_data_core/foci-exp.txt');"
   ]
  },
  {
   "cell_type": "markdown",
   "metadata": {},
   "source": [
    "For example, to obtain foci data for language 1 and speaker 1, where each entry shows foci locations for given term: "
   ]
  },
  {
   "cell_type": "code",
   "execution_count": 448,
   "metadata": {},
   "outputs": [
    {
     "data": {
      "text/plain": "{'FS': ['G:1', 'G:2', 'G:3'],\n 'FE': ['C:8', 'C:9', 'C:10'],\n 'CA': ['F:19', 'F:20', 'F:21', 'G:19', 'G:20', 'G:21'],\n 'AS': ['C:4', 'C:5', 'C:6'],\n 'MA': ['E:38', 'E:39', 'E:40']}"
     },
     "execution_count": 448,
     "metadata": {},
     "output_type": "execute_result"
    }
   ],
   "source": [
    "fociData[86][2]"
   ]
  },
  {
   "cell_type": "markdown",
   "metadata": {},
   "source": [
    "In the above example, foci for term 'LF' is located at coordinate _(A, 0)_ in the Munsell chart."
   ]
  },
  {
   "cell_type": "markdown",
   "metadata": {},
   "source": [
    "## Demo 5: Import speaker demographic information\n",
    "\n",
    "> Most speakers' age _(integer)_ and gender _(M/F)_ information was recorded.\n",
    "\n",
    "______________________________________________\n",
    "\n",
    "Load speaker information.\n",
    "\n",
    "`speakerInfo` is a hierarchical dictionary organized as follows:\n",
    "\n",
    "**language &rarr; speaker &rarr; (age, gender)**"
   ]
  },
  {
   "cell_type": "code",
   "execution_count": 449,
   "metadata": {},
   "outputs": [],
   "source": [
    "speakerInfo = readSpeakerData('./WCS_data_core/spkr-lsas.txt')"
   ]
  },
  {
   "cell_type": "markdown",
   "metadata": {},
   "source": [
    "For example, uncomment the following line to access _(age, gender)_ information for all speakers from language 1:"
   ]
  },
  {
   "cell_type": "code",
   "execution_count": 477,
   "metadata": {},
   "outputs": [
    {
     "data": {
      "image/png": "[encoded data removed]",
      "image/svg+xml": "<?xml version=\"1.0\" encoding=\"utf-8\" standalone=\"no\"?>\n<!DOCTYPE svg PUBLIC \"-//W3C//DTD SVG 1.1//EN\"\n  \"http://www.w3.org/Graphics/SVG/1.1/DTD/svg11.dtd\">\n<!-- Created with matplotlib (https://matplotlib.org/) -->\n<svg height=\"316.026875pt\" version=\"1.1\" viewBox=\"0 0 453.950622 316.026875\" width=\"453.950622pt\" xmlns=\"http://www.w3.org/2000/svg\" xmlns:xlink=\"http://www.w3.org/1999/xlink\">\n <defs>\n  <style type=\"text/css\">\n*{stroke-linecap:butt;stroke-linejoin:round;}\n  </style>\n </defs>\n <g id=\"figure_1\">\n  <g id=\"patch_1\">\n   <path d=\"M 0 316.026875 \nL 453.950622 316.026875 \nL 453.950622 0 \nL 0 0 \nz\n\" style=\"fill:none;\"/>\n  </g>\n  <g id=\"axes_1\">\n   <g id=\"patch_2\">\n    <path d=\"M 107.39375 239.758125 \nL 442.19375 239.758125 \nL 442.19375 22.318125 \nL 107.39375 22.318125 \nz\n\" style=\"fill:#ffffff;\"/>\n   </g>\n   <g id=\"PathCollection_1\">\n    <defs>\n     <path d=\"M 0 3 \nC 0.795609 3 1.55874 2.683901 2.12132 2.12132 \nC 2.683901 1.55874 3 0.795609 3 0 \nC 3 -0.795609 2.683901 -1.55874 2.12132 -2.12132 \nC 1.55874 -2.683901 0.795609 -3 0 -3 \nC -0.795609 -3 -1.55874 -2.683901 -2.12132 -2.12132 \nC -2.683901 -1.55874 -3 -0.795609 -3 0 \nC -3 0.795609 -2.683901 1.55874 -2.12132 2.12132 \nC -1.55874 2.683901 -0.795609 3 0 3 \nz\n\" id=\"m08806ec683\" style=\"stroke:#1f77b4;\"/>\n    </defs>\n    <g clip-path=\"url(#p4df5590a5a)\">\n     <use style=\"fill:#1f77b4;stroke:#1f77b4;\" x=\"122.636949\" xlink:href=\"#m08806ec683\" y=\"105.798149\"/>\n     <use style=\"fill:#1f77b4;stroke:#1f77b4;\" x=\"125.428816\" xlink:href=\"#m08806ec683\" y=\"45.064303\"/>\n     <use style=\"fill:#1f77b4;stroke:#1f77b4;\" x=\"128.220684\" xlink:href=\"#m08806ec683\" y=\"82.98208\"/>\n     <use style=\"fill:#1f77b4;stroke:#1f77b4;\" x=\"131.012552\" xlink:href=\"#m08806ec683\" y=\"145.221718\"/>\n     <use style=\"fill:#1f77b4;stroke:#1f77b4;\" x=\"133.80442\" xlink:href=\"#m08806ec683\" y=\"120.772692\"/>\n     <use style=\"fill:#1f77b4;stroke:#1f77b4;\" x=\"136.596288\" xlink:href=\"#m08806ec683\" y=\"67.025638\"/>\n     <use style=\"fill:#1f77b4;stroke:#1f77b4;\" x=\"139.388156\" xlink:href=\"#m08806ec683\" y=\"66.332797\"/>\n     <use style=\"fill:#1f77b4;stroke:#1f77b4;\" x=\"142.180024\" xlink:href=\"#m08806ec683\" y=\"35.040573\"/>\n     <use style=\"fill:#1f77b4;stroke:#1f77b4;\" x=\"144.971892\" xlink:href=\"#m08806ec683\" y=\"53.917969\"/>\n     <use style=\"fill:#1f77b4;stroke:#1f77b4;\" x=\"147.76376\" xlink:href=\"#m08806ec683\" y=\"109.219565\"/>\n     <use style=\"fill:#1f77b4;stroke:#1f77b4;\" x=\"150.555628\" xlink:href=\"#m08806ec683\" y=\"49.011733\"/>\n     <use style=\"fill:#1f77b4;stroke:#1f77b4;\" x=\"153.347496\" xlink:href=\"#m08806ec683\" y=\"89.205322\"/>\n     <use style=\"fill:#1f77b4;stroke:#1f77b4;\" x=\"156.139364\" xlink:href=\"#m08806ec683\" y=\"55.63269\"/>\n     <use style=\"fill:#1f77b4;stroke:#1f77b4;\" x=\"158.931231\" xlink:href=\"#m08806ec683\" y=\"35.040573\"/>\n     <use style=\"fill:#1f77b4;stroke:#1f77b4;\" x=\"161.723099\" xlink:href=\"#m08806ec683\" y=\"36.510267\"/>\n     <use style=\"fill:#1f77b4;stroke:#1f77b4;\" x=\"164.514967\" xlink:href=\"#m08806ec683\" y=\"49.900807\"/>\n     <use style=\"fill:#1f77b4;stroke:#1f77b4;\" x=\"167.306835\" xlink:href=\"#m08806ec683\" y=\"140.968601\"/>\n     <use style=\"fill:#1f77b4;stroke:#1f77b4;\" x=\"170.098703\" xlink:href=\"#m08806ec683\" y=\"164.469427\"/>\n     <use style=\"fill:#1f77b4;stroke:#1f77b4;\" x=\"172.890571\" xlink:href=\"#m08806ec683\" y=\"36.112225\"/>\n     <use style=\"fill:#1f77b4;stroke:#1f77b4;\" x=\"175.682439\" xlink:href=\"#m08806ec683\" y=\"80.118351\"/>\n     <use style=\"fill:#1f77b4;stroke:#1f77b4;\" x=\"178.474307\" xlink:href=\"#m08806ec683\" y=\"35.040573\"/>\n     <use style=\"fill:#1f77b4;stroke:#1f77b4;\" x=\"181.266175\" xlink:href=\"#m08806ec683\" y=\"94.797585\"/>\n     <use style=\"fill:#1f77b4;stroke:#1f77b4;\" x=\"184.058043\" xlink:href=\"#m08806ec683\" y=\"35.040573\"/>\n     <use style=\"fill:#1f77b4;stroke:#1f77b4;\" x=\"186.849911\" xlink:href=\"#m08806ec683\" y=\"35.040573\"/>\n     <use style=\"fill:#1f77b4;stroke:#1f77b4;\" x=\"189.641779\" xlink:href=\"#m08806ec683\" y=\"35.040573\"/>\n     <use style=\"fill:#1f77b4;stroke:#1f77b4;\" x=\"192.433646\" xlink:href=\"#m08806ec683\" y=\"35.040573\"/>\n     <use style=\"fill:#1f77b4;stroke:#1f77b4;\" x=\"195.225514\" xlink:href=\"#m08806ec683\" y=\"35.040573\"/>\n     <use style=\"fill:#1f77b4;stroke:#1f77b4;\" x=\"198.017382\" xlink:href=\"#m08806ec683\" y=\"37.150902\"/>\n     <use style=\"fill:#1f77b4;stroke:#1f77b4;\" x=\"200.80925\" xlink:href=\"#m08806ec683\" y=\"35.040573\"/>\n     <use style=\"fill:#1f77b4;stroke:#1f77b4;\" x=\"203.601118\" xlink:href=\"#m08806ec683\" y=\"42.661206\"/>\n     <use style=\"fill:#1f77b4;stroke:#1f77b4;\" x=\"206.392986\" xlink:href=\"#m08806ec683\" y=\"46.471522\"/>\n     <use style=\"fill:#1f77b4;stroke:#1f77b4;\" x=\"209.184854\" xlink:href=\"#m08806ec683\" y=\"227.035677\"/>\n     <use style=\"fill:#1f77b4;stroke:#1f77b4;\" x=\"211.976722\" xlink:href=\"#m08806ec683\" y=\"35.040573\"/>\n     <use style=\"fill:#1f77b4;stroke:#1f77b4;\" x=\"214.76859\" xlink:href=\"#m08806ec683\" y=\"36.5647\"/>\n     <use style=\"fill:#1f77b4;stroke:#1f77b4;\" x=\"217.560458\" xlink:href=\"#m08806ec683\" y=\"35.040573\"/>\n     <use style=\"fill:#1f77b4;stroke:#1f77b4;\" x=\"220.352326\" xlink:href=\"#m08806ec683\" y=\"35.040573\"/>\n     <use style=\"fill:#1f77b4;stroke:#1f77b4;\" x=\"223.144194\" xlink:href=\"#m08806ec683\" y=\"38.714807\"/>\n     <use style=\"fill:#1f77b4;stroke:#1f77b4;\" x=\"225.936061\" xlink:href=\"#m08806ec683\" y=\"59.173066\"/>\n     <use style=\"fill:#1f77b4;stroke:#1f77b4;\" x=\"228.727929\" xlink:href=\"#m08806ec683\" y=\"38.714807\"/>\n     <use style=\"fill:#1f77b4;stroke:#1f77b4;\" x=\"231.519797\" xlink:href=\"#m08806ec683\" y=\"37.378722\"/>\n     <use style=\"fill:#1f77b4;stroke:#1f77b4;\" x=\"234.311665\" xlink:href=\"#m08806ec683\" y=\"122.603556\"/>\n     <use style=\"fill:#1f77b4;stroke:#1f77b4;\" x=\"237.103533\" xlink:href=\"#m08806ec683\" y=\"35.040573\"/>\n     <use style=\"fill:#1f77b4;stroke:#1f77b4;\" x=\"239.895401\" xlink:href=\"#m08806ec683\" y=\"76.19199\"/>\n     <use style=\"fill:#1f77b4;stroke:#1f77b4;\" x=\"242.687269\" xlink:href=\"#m08806ec683\" y=\"53.19561\"/>\n     <use style=\"fill:#1f77b4;stroke:#1f77b4;\" x=\"245.479137\" xlink:href=\"#m08806ec683\" y=\"35.040573\"/>\n     <use style=\"fill:#1f77b4;stroke:#1f77b4;\" x=\"248.271005\" xlink:href=\"#m08806ec683\" y=\"51.641429\"/>\n     <use style=\"fill:#1f77b4;stroke:#1f77b4;\" x=\"251.062873\" xlink:href=\"#m08806ec683\" y=\"35.040573\"/>\n     <use style=\"fill:#1f77b4;stroke:#1f77b4;\" x=\"253.854741\" xlink:href=\"#m08806ec683\" y=\"39.656918\"/>\n     <use style=\"fill:#1f77b4;stroke:#1f77b4;\" x=\"256.646609\" xlink:href=\"#m08806ec683\" y=\"40.919347\"/>\n     <use style=\"fill:#1f77b4;stroke:#1f77b4;\" x=\"259.438476\" xlink:href=\"#m08806ec683\" y=\"110.533431\"/>\n     <use style=\"fill:#1f77b4;stroke:#1f77b4;\" x=\"262.230344\" xlink:href=\"#m08806ec683\" y=\"135.583657\"/>\n     <use style=\"fill:#1f77b4;stroke:#1f77b4;\" x=\"265.022212\" xlink:href=\"#m08806ec683\" y=\"111.490779\"/>\n     <use style=\"fill:#1f77b4;stroke:#1f77b4;\" x=\"267.81408\" xlink:href=\"#m08806ec683\" y=\"171.436292\"/>\n     <use style=\"fill:#1f77b4;stroke:#1f77b4;\" x=\"270.605948\" xlink:href=\"#m08806ec683\" y=\"50.108643\"/>\n     <use style=\"fill:#1f77b4;stroke:#1f77b4;\" x=\"273.397816\" xlink:href=\"#m08806ec683\" y=\"37.612537\"/>\n     <use style=\"fill:#1f77b4;stroke:#1f77b4;\" x=\"276.189684\" xlink:href=\"#m08806ec683\" y=\"40.467134\"/>\n     <use style=\"fill:#1f77b4;stroke:#1f77b4;\" x=\"278.981552\" xlink:href=\"#m08806ec683\" y=\"109.181862\"/>\n     <use style=\"fill:#1f77b4;stroke:#1f77b4;\" x=\"281.77342\" xlink:href=\"#m08806ec683\" y=\"68.15204\"/>\n     <use style=\"fill:#1f77b4;stroke:#1f77b4;\" x=\"284.565288\" xlink:href=\"#m08806ec683\" y=\"43.907553\"/>\n     <use style=\"fill:#1f77b4;stroke:#1f77b4;\" x=\"287.357156\" xlink:href=\"#m08806ec683\" y=\"48.098234\"/>\n     <use style=\"fill:#1f77b4;stroke:#1f77b4;\" x=\"290.149024\" xlink:href=\"#m08806ec683\" y=\"35.040573\"/>\n     <use style=\"fill:#1f77b4;stroke:#1f77b4;\" x=\"292.940891\" xlink:href=\"#m08806ec683\" y=\"40.3478\"/>\n     <use style=\"fill:#1f77b4;stroke:#1f77b4;\" x=\"295.732759\" xlink:href=\"#m08806ec683\" y=\"137.216193\"/>\n     <use style=\"fill:#1f77b4;stroke:#1f77b4;\" x=\"298.524627\" xlink:href=\"#m08806ec683\" y=\"110.119984\"/>\n     <use style=\"fill:#1f77b4;stroke:#1f77b4;\" x=\"301.316495\" xlink:href=\"#m08806ec683\" y=\"35.040573\"/>\n     <use style=\"fill:#1f77b4;stroke:#1f77b4;\" x=\"304.108363\" xlink:href=\"#m08806ec683\" y=\"204.713799\"/>\n     <use style=\"fill:#1f77b4;stroke:#1f77b4;\" x=\"306.900231\" xlink:href=\"#m08806ec683\" y=\"85.994216\"/>\n     <use style=\"fill:#1f77b4;stroke:#1f77b4;\" x=\"309.692099\" xlink:href=\"#m08806ec683\" y=\"39.058315\"/>\n     <use style=\"fill:#1f77b4;stroke:#1f77b4;\" x=\"312.483967\" xlink:href=\"#m08806ec683\" y=\"35.040573\"/>\n     <use style=\"fill:#1f77b4;stroke:#1f77b4;\" x=\"315.275835\" xlink:href=\"#m08806ec683\" y=\"39.562707\"/>\n     <use style=\"fill:#1f77b4;stroke:#1f77b4;\" x=\"318.067703\" xlink:href=\"#m08806ec683\" y=\"37.326763\"/>\n     <use style=\"fill:#1f77b4;stroke:#1f77b4;\" x=\"320.859571\" xlink:href=\"#m08806ec683\" y=\"125.844238\"/>\n     <use style=\"fill:#1f77b4;stroke:#1f77b4;\" x=\"323.651439\" xlink:href=\"#m08806ec683\" y=\"39.239697\"/>\n     <use style=\"fill:#1f77b4;stroke:#1f77b4;\" x=\"326.443306\" xlink:href=\"#m08806ec683\" y=\"35.040573\"/>\n     <use style=\"fill:#1f77b4;stroke:#1f77b4;\" x=\"329.235174\" xlink:href=\"#m08806ec683\" y=\"35.040573\"/>\n     <use style=\"fill:#1f77b4;stroke:#1f77b4;\" x=\"332.027042\" xlink:href=\"#m08806ec683\" y=\"35.040573\"/>\n     <use style=\"fill:#1f77b4;stroke:#1f77b4;\" x=\"334.81891\" xlink:href=\"#m08806ec683\" y=\"115.932035\"/>\n     <use style=\"fill:#1f77b4;stroke:#1f77b4;\" x=\"337.610778\" xlink:href=\"#m08806ec683\" y=\"35.040573\"/>\n     <use style=\"fill:#1f77b4;stroke:#1f77b4;\" x=\"340.402646\" xlink:href=\"#m08806ec683\" y=\"44.899767\"/>\n     <use style=\"fill:#1f77b4;stroke:#1f77b4;\" x=\"343.194514\" xlink:href=\"#m08806ec683\" y=\"131.912992\"/>\n     <use style=\"fill:#1f77b4;stroke:#1f77b4;\" x=\"345.986382\" xlink:href=\"#m08806ec683\" y=\"45.061211\"/>\n     <use style=\"fill:#1f77b4;stroke:#1f77b4;\" x=\"348.77825\" xlink:href=\"#m08806ec683\" y=\"41.572544\"/>\n     <use style=\"fill:#1f77b4;stroke:#1f77b4;\" x=\"351.570118\" xlink:href=\"#m08806ec683\" y=\"35.040573\"/>\n     <use style=\"fill:#1f77b4;stroke:#1f77b4;\" x=\"354.361986\" xlink:href=\"#m08806ec683\" y=\"69.277403\"/>\n     <use style=\"fill:#1f77b4;stroke:#1f77b4;\" x=\"357.153854\" xlink:href=\"#m08806ec683\" y=\"49.170258\"/>\n     <use style=\"fill:#1f77b4;stroke:#1f77b4;\" x=\"359.945721\" xlink:href=\"#m08806ec683\" y=\"166.473405\"/>\n     <use style=\"fill:#1f77b4;stroke:#1f77b4;\" x=\"362.737589\" xlink:href=\"#m08806ec683\" y=\"53.458847\"/>\n     <use style=\"fill:#1f77b4;stroke:#1f77b4;\" x=\"365.529457\" xlink:href=\"#m08806ec683\" y=\"56.187829\"/>\n     <use style=\"fill:#1f77b4;stroke:#1f77b4;\" x=\"368.321325\" xlink:href=\"#m08806ec683\" y=\"44.75688\"/>\n     <use style=\"fill:#1f77b4;stroke:#1f77b4;\" x=\"371.113193\" xlink:href=\"#m08806ec683\" y=\"43.994817\"/>\n     <use style=\"fill:#1f77b4;stroke:#1f77b4;\" x=\"373.905061\" xlink:href=\"#m08806ec683\" y=\"46.471522\"/>\n     <use style=\"fill:#1f77b4;stroke:#1f77b4;\" x=\"376.696929\" xlink:href=\"#m08806ec683\" y=\"122.66893\"/>\n     <use style=\"fill:#1f77b4;stroke:#1f77b4;\" x=\"379.488797\" xlink:href=\"#m08806ec683\" y=\"35.040573\"/>\n     <use style=\"fill:#1f77b4;stroke:#1f77b4;\" x=\"382.280665\" xlink:href=\"#m08806ec683\" y=\"35.040573\"/>\n     <use style=\"fill:#1f77b4;stroke:#1f77b4;\" x=\"385.072533\" xlink:href=\"#m08806ec683\" y=\"117.512199\"/>\n     <use style=\"fill:#1f77b4;stroke:#1f77b4;\" x=\"387.864401\" xlink:href=\"#m08806ec683\" y=\"35.040573\"/>\n     <use style=\"fill:#1f77b4;stroke:#1f77b4;\" x=\"390.656269\" xlink:href=\"#m08806ec683\" y=\"114.908764\"/>\n     <use style=\"fill:#1f77b4;stroke:#1f77b4;\" x=\"393.448136\" xlink:href=\"#m08806ec683\" y=\"113.710133\"/>\n     <use style=\"fill:#1f77b4;stroke:#1f77b4;\" x=\"396.240004\" xlink:href=\"#m08806ec683\" y=\"35.040573\"/>\n     <use style=\"fill:#1f77b4;stroke:#1f77b4;\" x=\"399.031872\" xlink:href=\"#m08806ec683\" y=\"35.040573\"/>\n     <use style=\"fill:#1f77b4;stroke:#1f77b4;\" x=\"401.82374\" xlink:href=\"#m08806ec683\" y=\"35.040573\"/>\n     <use style=\"fill:#1f77b4;stroke:#1f77b4;\" x=\"404.615608\" xlink:href=\"#m08806ec683\" y=\"67.819577\"/>\n     <use style=\"fill:#1f77b4;stroke:#1f77b4;\" x=\"407.407476\" xlink:href=\"#m08806ec683\" y=\"109.814613\"/>\n     <use style=\"fill:#1f77b4;stroke:#1f77b4;\" x=\"410.199344\" xlink:href=\"#m08806ec683\" y=\"122.67785\"/>\n     <use style=\"fill:#1f77b4;stroke:#1f77b4;\" x=\"412.991212\" xlink:href=\"#m08806ec683\" y=\"35.040573\"/>\n     <use style=\"fill:#1f77b4;stroke:#1f77b4;\" x=\"415.78308\" xlink:href=\"#m08806ec683\" y=\"66.340394\"/>\n     <use style=\"fill:#1f77b4;stroke:#1f77b4;\" x=\"418.574948\" xlink:href=\"#m08806ec683\" y=\"96.476932\"/>\n     <use style=\"fill:#1f77b4;stroke:#1f77b4;\" x=\"421.366816\" xlink:href=\"#m08806ec683\" y=\"35.040573\"/>\n     <use style=\"fill:#1f77b4;stroke:#1f77b4;\" x=\"424.158684\" xlink:href=\"#m08806ec683\" y=\"147.398799\"/>\n     <use style=\"fill:#1f77b4;stroke:#1f77b4;\" x=\"426.950551\" xlink:href=\"#m08806ec683\" y=\"47.555997\"/>\n    </g>\n   </g>\n   <g id=\"matplotlib.axis_1\">\n    <g id=\"xtick_1\">\n     <g id=\"line2d_1\">\n      <defs>\n       <path d=\"M 0 0 \nL 0 3.5 \n\" id=\"m5a8d6a24a6\" style=\"stroke:#000000;stroke-width:0.8;\"/>\n      </defs>\n      <g>\n       <use style=\"stroke:#000000;stroke-width:0.8;\" x=\"119.845081\" xlink:href=\"#m5a8d6a24a6\" y=\"239.758125\"/>\n      </g>\n     </g>\n     <g id=\"text_1\">\n      <!-- 0 -->\n      <defs>\n       <path d=\"M 31.78125 66.40625 \nQ 24.171875 66.40625 20.328125 58.90625 \nQ 16.5 51.421875 16.5 36.375 \nQ 16.5 21.390625 20.328125 13.890625 \nQ 24.171875 6.390625 31.78125 6.390625 \nQ 39.453125 6.390625 43.28125 13.890625 \nQ 47.125 21.390625 47.125 36.375 \nQ 47.125 51.421875 43.28125 58.90625 \nQ 39.453125 66.40625 31.78125 66.40625 \nz\nM 31.78125 74.21875 \nQ 44.046875 74.21875 50.515625 64.515625 \nQ 56.984375 54.828125 56.984375 36.375 \nQ 56.984375 17.96875 50.515625 8.265625 \nQ 44.046875 -1.421875 31.78125 -1.421875 \nQ 19.53125 -1.421875 13.0625 8.265625 \nQ 6.59375 17.96875 6.59375 36.375 \nQ 6.59375 54.828125 13.0625 64.515625 \nQ 19.53125 74.21875 31.78125 74.21875 \nz\n\" id=\"DejaVuSans-48\"/>\n      </defs>\n      <g transform=\"translate(103.938831 284.750312)scale(0.5 -0.5)\">\n       <use xlink:href=\"#DejaVuSans-48\"/>\n      </g>\n     </g>\n    </g>\n    <g id=\"xtick_2\">\n     <g id=\"line2d_2\">\n      <g>\n       <use style=\"stroke:#000000;stroke-width:0.8;\" x=\"399.031872\" xlink:href=\"#m5a8d6a24a6\" y=\"239.758125\"/>\n      </g>\n     </g>\n     <g id=\"text_2\">\n      <!-- 100 -->\n      <defs>\n       <path d=\"M 12.40625 8.296875 \nL 28.515625 8.296875 \nL 28.515625 63.921875 \nL 10.984375 60.40625 \nL 10.984375 69.390625 \nL 28.421875 72.90625 \nL 38.28125 72.90625 \nL 38.28125 8.296875 \nL 54.390625 8.296875 \nL 54.390625 0 \nL 12.40625 0 \nz\n\" id=\"DejaVuSans-49\"/>\n      </defs>\n      <g transform=\"translate(351.313122 284.750312)scale(0.5 -0.5)\">\n       <use xlink:href=\"#DejaVuSans-49\"/>\n       <use x=\"63.623047\" xlink:href=\"#DejaVuSans-48\"/>\n       <use x=\"127.246094\" xlink:href=\"#DejaVuSans-48\"/>\n      </g>\n     </g>\n    </g>\n    <g id=\"text_3\">\n     <!-- Language -->\n     <defs>\n      <path d=\"M 9.8125 72.90625 \nL 19.671875 72.90625 \nL 19.671875 8.296875 \nL 55.171875 8.296875 \nL 55.171875 0 \nL 9.8125 0 \nz\n\" id=\"DejaVuSans-76\"/>\n      <path d=\"M 34.28125 27.484375 \nQ 23.390625 27.484375 19.1875 25 \nQ 14.984375 22.515625 14.984375 16.5 \nQ 14.984375 11.71875 18.140625 8.90625 \nQ 21.296875 6.109375 26.703125 6.109375 \nQ 34.1875 6.109375 38.703125 11.40625 \nQ 43.21875 16.703125 43.21875 25.484375 \nL 43.21875 27.484375 \nz\nM 52.203125 31.203125 \nL 52.203125 0 \nL 43.21875 0 \nL 43.21875 8.296875 \nQ 40.140625 3.328125 35.546875 0.953125 \nQ 30.953125 -1.421875 24.3125 -1.421875 \nQ 15.921875 -1.421875 10.953125 3.296875 \nQ 6 8.015625 6 15.921875 \nQ 6 25.140625 12.171875 29.828125 \nQ 18.359375 34.515625 30.609375 34.515625 \nL 43.21875 34.515625 \nL 43.21875 35.40625 \nQ 43.21875 41.609375 39.140625 45 \nQ 35.0625 48.390625 27.6875 48.390625 \nQ 23 48.390625 18.546875 47.265625 \nQ 14.109375 46.140625 10.015625 43.890625 \nL 10.015625 52.203125 \nQ 14.9375 54.109375 19.578125 55.046875 \nQ 24.21875 56 28.609375 56 \nQ 40.484375 56 46.34375 49.84375 \nQ 52.203125 43.703125 52.203125 31.203125 \nz\n\" id=\"DejaVuSans-97\"/>\n      <path d=\"M 54.890625 33.015625 \nL 54.890625 0 \nL 45.90625 0 \nL 45.90625 32.71875 \nQ 45.90625 40.484375 42.875 44.328125 \nQ 39.84375 48.1875 33.796875 48.1875 \nQ 26.515625 48.1875 22.3125 43.546875 \nQ 18.109375 38.921875 18.109375 30.90625 \nL 18.109375 0 \nL 9.078125 0 \nL 9.078125 54.6875 \nL 18.109375 54.6875 \nL 18.109375 46.1875 \nQ 21.34375 51.125 25.703125 53.5625 \nQ 30.078125 56 35.796875 56 \nQ 45.21875 56 50.046875 50.171875 \nQ 54.890625 44.34375 54.890625 33.015625 \nz\n\" id=\"DejaVuSans-110\"/>\n      <path d=\"M 45.40625 27.984375 \nQ 45.40625 37.75 41.375 43.109375 \nQ 37.359375 48.484375 30.078125 48.484375 \nQ 22.859375 48.484375 18.828125 43.109375 \nQ 14.796875 37.75 14.796875 27.984375 \nQ 14.796875 18.265625 18.828125 12.890625 \nQ 22.859375 7.515625 30.078125 7.515625 \nQ 37.359375 7.515625 41.375 12.890625 \nQ 45.40625 18.265625 45.40625 27.984375 \nz\nM 54.390625 6.78125 \nQ 54.390625 -7.171875 48.1875 -13.984375 \nQ 42 -20.796875 29.203125 -20.796875 \nQ 24.46875 -20.796875 20.265625 -20.09375 \nQ 16.0625 -19.390625 12.109375 -17.921875 \nL 12.109375 -9.1875 \nQ 16.0625 -11.328125 19.921875 -12.34375 \nQ 23.78125 -13.375 27.78125 -13.375 \nQ 36.625 -13.375 41.015625 -8.765625 \nQ 45.40625 -4.15625 45.40625 5.171875 \nL 45.40625 9.625 \nQ 42.625 4.78125 38.28125 2.390625 \nQ 33.9375 0 27.875 0 \nQ 17.828125 0 11.671875 7.65625 \nQ 5.515625 15.328125 5.515625 27.984375 \nQ 5.515625 40.671875 11.671875 48.328125 \nQ 17.828125 56 27.875 56 \nQ 33.9375 56 38.28125 53.609375 \nQ 42.625 51.21875 45.40625 46.390625 \nL 45.40625 54.6875 \nL 54.390625 54.6875 \nz\n\" id=\"DejaVuSans-103\"/>\n      <path d=\"M 8.5 21.578125 \nL 8.5 54.6875 \nL 17.484375 54.6875 \nL 17.484375 21.921875 \nQ 17.484375 14.15625 20.5 10.265625 \nQ 23.53125 6.390625 29.59375 6.390625 \nQ 36.859375 6.390625 41.078125 11.03125 \nQ 45.3125 15.671875 45.3125 23.6875 \nL 45.3125 54.6875 \nL 54.296875 54.6875 \nL 54.296875 0 \nL 45.3125 0 \nL 45.3125 8.40625 \nQ 42.046875 3.421875 37.71875 1 \nQ 33.40625 -1.421875 27.6875 -1.421875 \nQ 18.265625 -1.421875 13.375 4.4375 \nQ 8.5 10.296875 8.5 21.578125 \nz\nM 31.109375 56 \nz\n\" id=\"DejaVuSans-117\"/>\n      <path d=\"M 56.203125 29.59375 \nL 56.203125 25.203125 \nL 14.890625 25.203125 \nQ 15.484375 15.921875 20.484375 11.0625 \nQ 25.484375 6.203125 34.421875 6.203125 \nQ 39.59375 6.203125 44.453125 7.46875 \nQ 49.3125 8.734375 54.109375 11.28125 \nL 54.109375 2.78125 \nQ 49.265625 0.734375 44.1875 -0.34375 \nQ 39.109375 -1.421875 33.890625 -1.421875 \nQ 20.796875 -1.421875 13.15625 6.1875 \nQ 5.515625 13.8125 5.515625 26.8125 \nQ 5.515625 40.234375 12.765625 48.109375 \nQ 20.015625 56 32.328125 56 \nQ 43.359375 56 49.78125 48.890625 \nQ 56.203125 41.796875 56.203125 29.59375 \nz\nM 47.21875 32.234375 \nQ 47.125 39.59375 43.09375 43.984375 \nQ 39.0625 48.390625 32.421875 48.390625 \nQ 24.90625 48.390625 20.390625 44.140625 \nQ 15.875 39.890625 15.1875 32.171875 \nz\n\" id=\"DejaVuSans-101\"/>\n     </defs>\n     <g transform=\"translate(250.117188 306.747187)scale(0.1 -0.1)\">\n      <use xlink:href=\"#DejaVuSans-76\"/>\n      <use x=\"55.712891\" xlink:href=\"#DejaVuSans-97\"/>\n      <use x=\"116.992188\" xlink:href=\"#DejaVuSans-110\"/>\n      <use x=\"180.371094\" xlink:href=\"#DejaVuSans-103\"/>\n      <use x=\"243.847656\" xlink:href=\"#DejaVuSans-117\"/>\n      <use x=\"307.226562\" xlink:href=\"#DejaVuSans-97\"/>\n      <use x=\"368.505859\" xlink:href=\"#DejaVuSans-103\"/>\n      <use x=\"431.982422\" xlink:href=\"#DejaVuSans-101\"/>\n     </g>\n    </g>\n   </g>\n   <g id=\"matplotlib.axis_2\">\n    <g id=\"ytick_1\">\n     <g id=\"line2d_3\">\n      <defs>\n       <path d=\"M 0 0 \nL -3.5 0 \n\" id=\"m8e441719e7\" style=\"stroke:#000000;stroke-width:0.8;\"/>\n      </defs>\n      <g>\n       <use style=\"stroke:#000000;stroke-width:0.8;\" x=\"107.39375\" xlink:href=\"#m8e441719e7\" y=\"137.919116\"/>\n      </g>\n     </g>\n     <g id=\"text_4\">\n      <!-- 0.5 -->\n      <defs>\n       <path d=\"M 10.6875 12.40625 \nL 21 12.40625 \nL 21 0 \nL 10.6875 0 \nz\n\" id=\"DejaVuSans-46\"/>\n       <path d=\"M 10.796875 72.90625 \nL 49.515625 72.90625 \nL 49.515625 64.59375 \nL 19.828125 64.59375 \nL 19.828125 46.734375 \nQ 21.96875 47.46875 24.109375 47.828125 \nQ 26.265625 48.1875 28.421875 48.1875 \nQ 40.625 48.1875 47.75 41.5 \nQ 54.890625 34.8125 54.890625 23.390625 \nQ 54.890625 11.625 47.5625 5.09375 \nQ 40.234375 -1.421875 26.90625 -1.421875 \nQ 22.3125 -1.421875 17.546875 -0.640625 \nQ 12.796875 0.140625 7.71875 1.703125 \nL 7.71875 11.625 \nQ 12.109375 9.234375 16.796875 8.0625 \nQ 21.484375 6.890625 26.703125 6.890625 \nQ 35.15625 6.890625 40.078125 11.328125 \nQ 45.015625 15.765625 45.015625 23.390625 \nQ 45.015625 31 40.078125 35.4375 \nQ 35.15625 39.890625 26.703125 39.890625 \nQ 22.75 39.890625 18.8125 39.015625 \nQ 14.890625 38.140625 10.796875 36.28125 \nz\n\" id=\"DejaVuSans-53\"/>\n      </defs>\n      <g transform=\"translate(20.878125 156.91521)scale(0.5 -0.5)\">\n       <use xlink:href=\"#DejaVuSans-48\"/>\n       <use x=\"63.623047\" xlink:href=\"#DejaVuSans-46\"/>\n       <use x=\"95.410156\" xlink:href=\"#DejaVuSans-53\"/>\n      </g>\n     </g>\n    </g>\n    <g id=\"ytick_2\">\n     <g id=\"line2d_4\">\n      <g>\n       <use style=\"stroke:#000000;stroke-width:0.8;\" x=\"107.39375\" xlink:href=\"#m8e441719e7\" y=\"35.040573\"/>\n      </g>\n     </g>\n     <g id=\"text_5\">\n      <!-- 1.0 -->\n      <g transform=\"translate(20.878125 54.036667)scale(0.5 -0.5)\">\n       <use xlink:href=\"#DejaVuSans-49\"/>\n       <use x=\"63.623047\" xlink:href=\"#DejaVuSans-46\"/>\n       <use x=\"95.410156\" xlink:href=\"#DejaVuSans-48\"/>\n      </g>\n     </g>\n    </g>\n    <g id=\"text_6\">\n     <!-- Average Words Per Color -->\n     <defs>\n      <path d=\"M 34.1875 63.1875 \nL 20.796875 26.90625 \nL 47.609375 26.90625 \nz\nM 28.609375 72.90625 \nL 39.796875 72.90625 \nL 67.578125 0 \nL 57.328125 0 \nL 50.6875 18.703125 \nL 17.828125 18.703125 \nL 11.1875 0 \nL 0.78125 0 \nz\n\" id=\"DejaVuSans-65\"/>\n      <path d=\"M 2.984375 54.6875 \nL 12.5 54.6875 \nL 29.59375 8.796875 \nL 46.6875 54.6875 \nL 56.203125 54.6875 \nL 35.6875 0 \nL 23.484375 0 \nz\n\" id=\"DejaVuSans-118\"/>\n      <path d=\"M 41.109375 46.296875 \nQ 39.59375 47.171875 37.8125 47.578125 \nQ 36.03125 48 33.890625 48 \nQ 26.265625 48 22.1875 43.046875 \nQ 18.109375 38.09375 18.109375 28.8125 \nL 18.109375 0 \nL 9.078125 0 \nL 9.078125 54.6875 \nL 18.109375 54.6875 \nL 18.109375 46.1875 \nQ 20.953125 51.171875 25.484375 53.578125 \nQ 30.03125 56 36.53125 56 \nQ 37.453125 56 38.578125 55.875 \nQ 39.703125 55.765625 41.0625 55.515625 \nz\n\" id=\"DejaVuSans-114\"/>\n      <path id=\"DejaVuSans-32\"/>\n      <path d=\"M 3.328125 72.90625 \nL 13.28125 72.90625 \nL 28.609375 11.28125 \nL 43.890625 72.90625 \nL 54.984375 72.90625 \nL 70.3125 11.28125 \nL 85.59375 72.90625 \nL 95.609375 72.90625 \nL 77.296875 0 \nL 64.890625 0 \nL 49.515625 63.28125 \nL 33.984375 0 \nL 21.578125 0 \nz\n\" id=\"DejaVuSans-87\"/>\n      <path d=\"M 30.609375 48.390625 \nQ 23.390625 48.390625 19.1875 42.75 \nQ 14.984375 37.109375 14.984375 27.296875 \nQ 14.984375 17.484375 19.15625 11.84375 \nQ 23.34375 6.203125 30.609375 6.203125 \nQ 37.796875 6.203125 41.984375 11.859375 \nQ 46.1875 17.53125 46.1875 27.296875 \nQ 46.1875 37.015625 41.984375 42.703125 \nQ 37.796875 48.390625 30.609375 48.390625 \nz\nM 30.609375 56 \nQ 42.328125 56 49.015625 48.375 \nQ 55.71875 40.765625 55.71875 27.296875 \nQ 55.71875 13.875 49.015625 6.21875 \nQ 42.328125 -1.421875 30.609375 -1.421875 \nQ 18.84375 -1.421875 12.171875 6.21875 \nQ 5.515625 13.875 5.515625 27.296875 \nQ 5.515625 40.765625 12.171875 48.375 \nQ 18.84375 56 30.609375 56 \nz\n\" id=\"DejaVuSans-111\"/>\n      <path d=\"M 45.40625 46.390625 \nL 45.40625 75.984375 \nL 54.390625 75.984375 \nL 54.390625 0 \nL 45.40625 0 \nL 45.40625 8.203125 \nQ 42.578125 3.328125 38.25 0.953125 \nQ 33.9375 -1.421875 27.875 -1.421875 \nQ 17.96875 -1.421875 11.734375 6.484375 \nQ 5.515625 14.40625 5.515625 27.296875 \nQ 5.515625 40.1875 11.734375 48.09375 \nQ 17.96875 56 27.875 56 \nQ 33.9375 56 38.25 53.625 \nQ 42.578125 51.265625 45.40625 46.390625 \nz\nM 14.796875 27.296875 \nQ 14.796875 17.390625 18.875 11.75 \nQ 22.953125 6.109375 30.078125 6.109375 \nQ 37.203125 6.109375 41.296875 11.75 \nQ 45.40625 17.390625 45.40625 27.296875 \nQ 45.40625 37.203125 41.296875 42.84375 \nQ 37.203125 48.484375 30.078125 48.484375 \nQ 22.953125 48.484375 18.875 42.84375 \nQ 14.796875 37.203125 14.796875 27.296875 \nz\n\" id=\"DejaVuSans-100\"/>\n      <path d=\"M 44.28125 53.078125 \nL 44.28125 44.578125 \nQ 40.484375 46.53125 36.375 47.5 \nQ 32.28125 48.484375 27.875 48.484375 \nQ 21.1875 48.484375 17.84375 46.4375 \nQ 14.5 44.390625 14.5 40.28125 \nQ 14.5 37.15625 16.890625 35.375 \nQ 19.28125 33.59375 26.515625 31.984375 \nL 29.59375 31.296875 \nQ 39.15625 29.25 43.1875 25.515625 \nQ 47.21875 21.78125 47.21875 15.09375 \nQ 47.21875 7.46875 41.1875 3.015625 \nQ 35.15625 -1.421875 24.609375 -1.421875 \nQ 20.21875 -1.421875 15.453125 -0.5625 \nQ 10.6875 0.296875 5.421875 2 \nL 5.421875 11.28125 \nQ 10.40625 8.6875 15.234375 7.390625 \nQ 20.0625 6.109375 24.8125 6.109375 \nQ 31.15625 6.109375 34.5625 8.28125 \nQ 37.984375 10.453125 37.984375 14.40625 \nQ 37.984375 18.0625 35.515625 20.015625 \nQ 33.0625 21.96875 24.703125 23.78125 \nL 21.578125 24.515625 \nQ 13.234375 26.265625 9.515625 29.90625 \nQ 5.8125 33.546875 5.8125 39.890625 \nQ 5.8125 47.609375 11.28125 51.796875 \nQ 16.75 56 26.8125 56 \nQ 31.78125 56 36.171875 55.265625 \nQ 40.578125 54.546875 44.28125 53.078125 \nz\n\" id=\"DejaVuSans-115\"/>\n      <path d=\"M 19.671875 64.796875 \nL 19.671875 37.40625 \nL 32.078125 37.40625 \nQ 38.96875 37.40625 42.71875 40.96875 \nQ 46.484375 44.53125 46.484375 51.125 \nQ 46.484375 57.671875 42.71875 61.234375 \nQ 38.96875 64.796875 32.078125 64.796875 \nz\nM 9.8125 72.90625 \nL 32.078125 72.90625 \nQ 44.34375 72.90625 50.609375 67.359375 \nQ 56.890625 61.8125 56.890625 51.125 \nQ 56.890625 40.328125 50.609375 34.8125 \nQ 44.34375 29.296875 32.078125 29.296875 \nL 19.671875 29.296875 \nL 19.671875 0 \nL 9.8125 0 \nz\n\" id=\"DejaVuSans-80\"/>\n      <path d=\"M 64.40625 67.28125 \nL 64.40625 56.890625 \nQ 59.421875 61.53125 53.78125 63.8125 \nQ 48.140625 66.109375 41.796875 66.109375 \nQ 29.296875 66.109375 22.65625 58.46875 \nQ 16.015625 50.828125 16.015625 36.375 \nQ 16.015625 21.96875 22.65625 14.328125 \nQ 29.296875 6.6875 41.796875 6.6875 \nQ 48.140625 6.6875 53.78125 8.984375 \nQ 59.421875 11.28125 64.40625 15.921875 \nL 64.40625 5.609375 \nQ 59.234375 2.09375 53.4375 0.328125 \nQ 47.65625 -1.421875 41.21875 -1.421875 \nQ 24.65625 -1.421875 15.125 8.703125 \nQ 5.609375 18.84375 5.609375 36.375 \nQ 5.609375 53.953125 15.125 64.078125 \nQ 24.65625 74.21875 41.21875 74.21875 \nQ 47.75 74.21875 53.53125 72.484375 \nQ 59.328125 70.75 64.40625 67.28125 \nz\n\" id=\"DejaVuSans-67\"/>\n      <path d=\"M 9.421875 75.984375 \nL 18.40625 75.984375 \nL 18.40625 0 \nL 9.421875 0 \nz\n\" id=\"DejaVuSans-108\"/>\n     </defs>\n     <g transform=\"translate(14.798438 193.66)rotate(-90)scale(0.1 -0.1)\">\n      <use xlink:href=\"#DejaVuSans-65\"/>\n      <use x=\"68.330078\" xlink:href=\"#DejaVuSans-118\"/>\n      <use x=\"127.509766\" xlink:href=\"#DejaVuSans-101\"/>\n      <use x=\"189.033203\" xlink:href=\"#DejaVuSans-114\"/>\n      <use x=\"230.146484\" xlink:href=\"#DejaVuSans-97\"/>\n      <use x=\"291.425781\" xlink:href=\"#DejaVuSans-103\"/>\n      <use x=\"354.902344\" xlink:href=\"#DejaVuSans-101\"/>\n      <use x=\"416.425781\" xlink:href=\"#DejaVuSans-32\"/>\n      <use x=\"448.212891\" xlink:href=\"#DejaVuSans-87\"/>\n      <use x=\"547.011719\" xlink:href=\"#DejaVuSans-111\"/>\n      <use x=\"608.193359\" xlink:href=\"#DejaVuSans-114\"/>\n      <use x=\"649.291016\" xlink:href=\"#DejaVuSans-100\"/>\n      <use x=\"712.767578\" xlink:href=\"#DejaVuSans-115\"/>\n      <use x=\"764.867188\" xlink:href=\"#DejaVuSans-32\"/>\n      <use x=\"796.654297\" xlink:href=\"#DejaVuSans-80\"/>\n      <use x=\"856.910156\" xlink:href=\"#DejaVuSans-101\"/>\n      <use x=\"918.433594\" xlink:href=\"#DejaVuSans-114\"/>\n      <use x=\"959.546875\" xlink:href=\"#DejaVuSans-32\"/>\n      <use x=\"991.333984\" xlink:href=\"#DejaVuSans-67\"/>\n      <use x=\"1061.158203\" xlink:href=\"#DejaVuSans-111\"/>\n      <use x=\"1122.339844\" xlink:href=\"#DejaVuSans-108\"/>\n      <use x=\"1150.123047\" xlink:href=\"#DejaVuSans-111\"/>\n      <use x=\"1211.304688\" xlink:href=\"#DejaVuSans-114\"/>\n     </g>\n    </g>\n   </g>\n   <g id=\"patch_3\">\n    <path d=\"M 107.39375 239.758125 \nL 107.39375 22.318125 \n\" style=\"fill:none;stroke:#000000;stroke-linecap:square;stroke-linejoin:miter;stroke-width:0.8;\"/>\n   </g>\n   <g id=\"patch_4\">\n    <path d=\"M 442.19375 239.758125 \nL 442.19375 22.318125 \n\" style=\"fill:none;stroke:#000000;stroke-linecap:square;stroke-linejoin:miter;stroke-width:0.8;\"/>\n   </g>\n   <g id=\"patch_5\">\n    <path d=\"M 107.39375 239.758125 \nL 442.19375 239.758125 \n\" style=\"fill:none;stroke:#000000;stroke-linecap:square;stroke-linejoin:miter;stroke-width:0.8;\"/>\n   </g>\n   <g id=\"patch_6\">\n    <path d=\"M 107.39375 22.318125 \nL 442.19375 22.318125 \n\" style=\"fill:none;stroke:#000000;stroke-linecap:square;stroke-linejoin:miter;stroke-width:0.8;\"/>\n   </g>\n   <g id=\"text_7\">\n    <!-- Language Vs. Average Words (Female) -->\n    <defs>\n     <path d=\"M 28.609375 0 \nL 0.78125 72.90625 \nL 11.078125 72.90625 \nL 34.1875 11.53125 \nL 57.328125 72.90625 \nL 67.578125 72.90625 \nL 39.796875 0 \nz\n\" id=\"DejaVuSans-86\"/>\n     <path d=\"M 31 75.875 \nQ 24.46875 64.65625 21.28125 53.65625 \nQ 18.109375 42.671875 18.109375 31.390625 \nQ 18.109375 20.125 21.3125 9.0625 \nQ 24.515625 -2 31 -13.1875 \nL 23.1875 -13.1875 \nQ 15.875 -1.703125 12.234375 9.375 \nQ 8.59375 20.453125 8.59375 31.390625 \nQ 8.59375 42.28125 12.203125 53.3125 \nQ 15.828125 64.359375 23.1875 75.875 \nz\n\" id=\"DejaVuSans-40\"/>\n     <path d=\"M 9.8125 72.90625 \nL 51.703125 72.90625 \nL 51.703125 64.59375 \nL 19.671875 64.59375 \nL 19.671875 43.109375 \nL 48.578125 43.109375 \nL 48.578125 34.8125 \nL 19.671875 34.8125 \nL 19.671875 0 \nL 9.8125 0 \nz\n\" id=\"DejaVuSans-70\"/>\n     <path d=\"M 52 44.1875 \nQ 55.375 50.25 60.0625 53.125 \nQ 64.75 56 71.09375 56 \nQ 79.640625 56 84.28125 50.015625 \nQ 88.921875 44.046875 88.921875 33.015625 \nL 88.921875 0 \nL 79.890625 0 \nL 79.890625 32.71875 \nQ 79.890625 40.578125 77.09375 44.375 \nQ 74.3125 48.1875 68.609375 48.1875 \nQ 61.625 48.1875 57.5625 43.546875 \nQ 53.515625 38.921875 53.515625 30.90625 \nL 53.515625 0 \nL 44.484375 0 \nL 44.484375 32.71875 \nQ 44.484375 40.625 41.703125 44.40625 \nQ 38.921875 48.1875 33.109375 48.1875 \nQ 26.21875 48.1875 22.15625 43.53125 \nQ 18.109375 38.875 18.109375 30.90625 \nL 18.109375 0 \nL 9.078125 0 \nL 9.078125 54.6875 \nL 18.109375 54.6875 \nL 18.109375 46.1875 \nQ 21.1875 51.21875 25.484375 53.609375 \nQ 29.78125 56 35.6875 56 \nQ 41.65625 56 45.828125 52.96875 \nQ 50 49.953125 52 44.1875 \nz\n\" id=\"DejaVuSans-109\"/>\n     <path d=\"M 8.015625 75.875 \nL 15.828125 75.875 \nQ 23.140625 64.359375 26.78125 53.3125 \nQ 30.421875 42.28125 30.421875 31.390625 \nQ 30.421875 20.453125 26.78125 9.375 \nQ 23.140625 -1.703125 15.828125 -13.1875 \nL 8.015625 -13.1875 \nQ 14.5 -2 17.703125 9.0625 \nQ 20.90625 20.125 20.90625 31.390625 \nQ 20.90625 42.671875 17.703125 53.65625 \nQ 14.5 64.65625 8.015625 75.875 \nz\n\" id=\"DejaVuSans-41\"/>\n    </defs>\n    <g transform=\"translate(157.730938 16.318125)scale(0.12 -0.12)\">\n     <use xlink:href=\"#DejaVuSans-76\"/>\n     <use x=\"55.712891\" xlink:href=\"#DejaVuSans-97\"/>\n     <use x=\"116.992188\" xlink:href=\"#DejaVuSans-110\"/>\n     <use x=\"180.371094\" xlink:href=\"#DejaVuSans-103\"/>\n     <use x=\"243.847656\" xlink:href=\"#DejaVuSans-117\"/>\n     <use x=\"307.226562\" xlink:href=\"#DejaVuSans-97\"/>\n     <use x=\"368.505859\" xlink:href=\"#DejaVuSans-103\"/>\n     <use x=\"431.982422\" xlink:href=\"#DejaVuSans-101\"/>\n     <use x=\"493.505859\" xlink:href=\"#DejaVuSans-32\"/>\n     <use x=\"525.292969\" xlink:href=\"#DejaVuSans-86\"/>\n     <use x=\"593.701172\" xlink:href=\"#DejaVuSans-115\"/>\n     <use x=\"645.800781\" xlink:href=\"#DejaVuSans-46\"/>\n     <use x=\"677.587891\" xlink:href=\"#DejaVuSans-32\"/>\n     <use x=\"709.375\" xlink:href=\"#DejaVuSans-65\"/>\n     <use x=\"777.705078\" xlink:href=\"#DejaVuSans-118\"/>\n     <use x=\"836.884766\" xlink:href=\"#DejaVuSans-101\"/>\n     <use x=\"898.408203\" xlink:href=\"#DejaVuSans-114\"/>\n     <use x=\"939.521484\" xlink:href=\"#DejaVuSans-97\"/>\n     <use x=\"1000.800781\" xlink:href=\"#DejaVuSans-103\"/>\n     <use x=\"1064.277344\" xlink:href=\"#DejaVuSans-101\"/>\n     <use x=\"1125.800781\" xlink:href=\"#DejaVuSans-32\"/>\n     <use x=\"1157.587891\" xlink:href=\"#DejaVuSans-87\"/>\n     <use x=\"1256.386719\" xlink:href=\"#DejaVuSans-111\"/>\n     <use x=\"1317.568359\" xlink:href=\"#DejaVuSans-114\"/>\n     <use x=\"1358.666016\" xlink:href=\"#DejaVuSans-100\"/>\n     <use x=\"1422.142578\" xlink:href=\"#DejaVuSans-115\"/>\n     <use x=\"1474.242188\" xlink:href=\"#DejaVuSans-32\"/>\n     <use x=\"1506.029297\" xlink:href=\"#DejaVuSans-40\"/>\n     <use x=\"1545.042969\" xlink:href=\"#DejaVuSans-70\"/>\n     <use x=\"1602.484375\" xlink:href=\"#DejaVuSans-101\"/>\n     <use x=\"1664.007812\" xlink:href=\"#DejaVuSans-109\"/>\n     <use x=\"1761.419922\" xlink:href=\"#DejaVuSans-97\"/>\n     <use x=\"1822.699219\" xlink:href=\"#DejaVuSans-108\"/>\n     <use x=\"1850.482422\" xlink:href=\"#DejaVuSans-101\"/>\n     <use x=\"1912.005859\" xlink:href=\"#DejaVuSans-41\"/>\n    </g>\n   </g>\n  </g>\n </g>\n <defs>\n  <clipPath id=\"p4df5590a5a\">\n   <rect height=\"217.44\" width=\"334.8\" x=\"107.39375\" y=\"22.318125\"/>\n  </clipPath>\n </defs>\n</svg>\n",
      "text/plain": "<Figure size 432x288 with 1 Axes>"
     },
     "metadata": {
      "needs_background": "light"
     },
     "output_type": "display_data"
    },
    {
     "data": {
      "image/png": "[encoded data removed]",
      "image/svg+xml": "<?xml version=\"1.0\" encoding=\"utf-8\" standalone=\"no\"?>\n<!DOCTYPE svg PUBLIC \"-//W3C//DTD SVG 1.1//EN\"\n  \"http://www.w3.org/Graphics/SVG/1.1/DTD/svg11.dtd\">\n<!-- Created with matplotlib (https://matplotlib.org/) -->\n<svg height=\"316.026875pt\" version=\"1.1\" viewBox=\"0 0 453.950622 316.026875\" width=\"453.950622pt\" xmlns=\"http://www.w3.org/2000/svg\" xmlns:xlink=\"http://www.w3.org/1999/xlink\">\n <defs>\n  <style type=\"text/css\">\n*{stroke-linecap:butt;stroke-linejoin:round;}\n  </style>\n </defs>\n <g id=\"figure_1\">\n  <g id=\"patch_1\">\n   <path d=\"M 0 316.026875 \nL 453.950622 316.026875 \nL 453.950622 0 \nL 0 0 \nz\n\" style=\"fill:none;\"/>\n  </g>\n  <g id=\"axes_1\">\n   <g id=\"patch_2\">\n    <path d=\"M 107.39375 239.758125 \nL 442.19375 239.758125 \nL 442.19375 22.318125 \nL 107.39375 22.318125 \nz\n\" style=\"fill:#ffffff;\"/>\n   </g>\n   <g id=\"PathCollection_1\">\n    <defs>\n     <path d=\"M 0 3 \nC 0.795609 3 1.55874 2.683901 2.12132 2.12132 \nC 2.683901 1.55874 3 0.795609 3 0 \nC 3 -0.795609 2.683901 -1.55874 2.12132 -2.12132 \nC 1.55874 -2.683901 0.795609 -3 0 -3 \nC -0.795609 -3 -1.55874 -2.683901 -2.12132 -2.12132 \nC -2.683901 -1.55874 -3 -0.795609 -3 0 \nC -3 0.795609 -2.683901 1.55874 -2.12132 2.12132 \nC -1.55874 2.683901 -0.795609 3 0 3 \nz\n\" id=\"m2da1f891d0\" style=\"stroke:#1f77b4;\"/>\n    </defs>\n    <g clip-path=\"url(#p40da4ac2ed)\">\n     <use style=\"fill:#1f77b4;stroke:#1f77b4;\" x=\"122.636949\" xlink:href=\"#m2da1f891d0\" y=\"100.176718\"/>\n     <use style=\"fill:#1f77b4;stroke:#1f77b4;\" x=\"125.428816\" xlink:href=\"#m2da1f891d0\" y=\"97.98431\"/>\n     <use style=\"fill:#1f77b4;stroke:#1f77b4;\" x=\"128.220684\" xlink:href=\"#m2da1f891d0\" y=\"59.03416\"/>\n     <use style=\"fill:#1f77b4;stroke:#1f77b4;\" x=\"131.012552\" xlink:href=\"#m2da1f891d0\" y=\"99.554878\"/>\n     <use style=\"fill:#1f77b4;stroke:#1f77b4;\" x=\"133.80442\" xlink:href=\"#m2da1f891d0\" y=\"202.840641\"/>\n     <use style=\"fill:#1f77b4;stroke:#1f77b4;\" x=\"136.596288\" xlink:href=\"#m2da1f891d0\" y=\"85.727639\"/>\n     <use style=\"fill:#1f77b4;stroke:#1f77b4;\" x=\"139.388156\" xlink:href=\"#m2da1f891d0\" y=\"65.703299\"/>\n     <use style=\"fill:#1f77b4;stroke:#1f77b4;\" x=\"142.180024\" xlink:href=\"#m2da1f891d0\" y=\"35.059119\"/>\n     <use style=\"fill:#1f77b4;stroke:#1f77b4;\" x=\"144.971892\" xlink:href=\"#m2da1f891d0\" y=\"50.468443\"/>\n     <use style=\"fill:#1f77b4;stroke:#1f77b4;\" x=\"147.76376\" xlink:href=\"#m2da1f891d0\" y=\"126.506858\"/>\n     <use style=\"fill:#1f77b4;stroke:#1f77b4;\" x=\"150.555628\" xlink:href=\"#m2da1f891d0\" y=\"35.059119\"/>\n     <use style=\"fill:#1f77b4;stroke:#1f77b4;\" x=\"153.347496\" xlink:href=\"#m2da1f891d0\" y=\"69.946116\"/>\n     <use style=\"fill:#1f77b4;stroke:#1f77b4;\" x=\"156.139364\" xlink:href=\"#m2da1f891d0\" y=\"35.059119\"/>\n     <use style=\"fill:#1f77b4;stroke:#1f77b4;\" x=\"158.931231\" xlink:href=\"#m2da1f891d0\" y=\"35.059119\"/>\n     <use style=\"fill:#1f77b4;stroke:#1f77b4;\" x=\"161.723099\" xlink:href=\"#m2da1f891d0\" y=\"35.059119\"/>\n     <use style=\"fill:#1f77b4;stroke:#1f77b4;\" x=\"164.514967\" xlink:href=\"#m2da1f891d0\" y=\"43.688341\"/>\n     <use style=\"fill:#1f77b4;stroke:#1f77b4;\" x=\"167.306835\" xlink:href=\"#m2da1f891d0\" y=\"136.679213\"/>\n     <use style=\"fill:#1f77b4;stroke:#1f77b4;\" x=\"170.098703\" xlink:href=\"#m2da1f891d0\" y=\"137.292489\"/>\n     <use style=\"fill:#1f77b4;stroke:#1f77b4;\" x=\"172.890571\" xlink:href=\"#m2da1f891d0\" y=\"36.386692\"/>\n     <use style=\"fill:#1f77b4;stroke:#1f77b4;\" x=\"175.682439\" xlink:href=\"#m2da1f891d0\" y=\"42.455595\"/>\n     <use style=\"fill:#1f77b4;stroke:#1f77b4;\" x=\"178.474307\" xlink:href=\"#m2da1f891d0\" y=\"35.059119\"/>\n     <use style=\"fill:#1f77b4;stroke:#1f77b4;\" x=\"181.266175\" xlink:href=\"#m2da1f891d0\" y=\"98.511913\"/>\n     <use style=\"fill:#1f77b4;stroke:#1f77b4;\" x=\"184.058043\" xlink:href=\"#m2da1f891d0\" y=\"48.619324\"/>\n     <use style=\"fill:#1f77b4;stroke:#1f77b4;\" x=\"186.849911\" xlink:href=\"#m2da1f891d0\" y=\"35.059119\"/>\n     <use style=\"fill:#1f77b4;stroke:#1f77b4;\" x=\"189.641779\" xlink:href=\"#m2da1f891d0\" y=\"35.059119\"/>\n     <use style=\"fill:#1f77b4;stroke:#1f77b4;\" x=\"192.433646\" xlink:href=\"#m2da1f891d0\" y=\"36.784964\"/>\n     <use style=\"fill:#1f77b4;stroke:#1f77b4;\" x=\"195.225514\" xlink:href=\"#m2da1f891d0\" y=\"35.059119\"/>\n     <use style=\"fill:#1f77b4;stroke:#1f77b4;\" x=\"198.017382\" xlink:href=\"#m2da1f891d0\" y=\"40.236652\"/>\n     <use style=\"fill:#1f77b4;stroke:#1f77b4;\" x=\"200.80925\" xlink:href=\"#m2da1f891d0\" y=\"35.059119\"/>\n     <use style=\"fill:#1f77b4;stroke:#1f77b4;\" x=\"203.601118\" xlink:href=\"#m2da1f891d0\" y=\"35.059119\"/>\n     <use style=\"fill:#1f77b4;stroke:#1f77b4;\" x=\"206.392986\" xlink:href=\"#m2da1f891d0\" y=\"35.059119\"/>\n     <use style=\"fill:#1f77b4;stroke:#1f77b4;\" x=\"209.184854\" xlink:href=\"#m2da1f891d0\" y=\"227.017131\"/>\n     <use style=\"fill:#1f77b4;stroke:#1f77b4;\" x=\"211.976722\" xlink:href=\"#m2da1f891d0\" y=\"35.059119\"/>\n     <use style=\"fill:#1f77b4;stroke:#1f77b4;\" x=\"214.76859\" xlink:href=\"#m2da1f891d0\" y=\"36.784964\"/>\n     <use style=\"fill:#1f77b4;stroke:#1f77b4;\" x=\"217.560458\" xlink:href=\"#m2da1f891d0\" y=\"35.059119\"/>\n     <use style=\"fill:#1f77b4;stroke:#1f77b4;\" x=\"220.352326\" xlink:href=\"#m2da1f891d0\" y=\"35.059119\"/>\n     <use style=\"fill:#1f77b4;stroke:#1f77b4;\" x=\"223.144194\" xlink:href=\"#m2da1f891d0\" y=\"35.059119\"/>\n     <use style=\"fill:#1f77b4;stroke:#1f77b4;\" x=\"225.936061\" xlink:href=\"#m2da1f891d0\" y=\"48.586279\"/>\n     <use style=\"fill:#1f77b4;stroke:#1f77b4;\" x=\"228.727929\" xlink:href=\"#m2da1f891d0\" y=\"49.002181\"/>\n     <use style=\"fill:#1f77b4;stroke:#1f77b4;\" x=\"231.519797\" xlink:href=\"#m2da1f891d0\" y=\"35.059119\"/>\n     <use style=\"fill:#1f77b4;stroke:#1f77b4;\" x=\"234.311665\" xlink:href=\"#m2da1f891d0\" y=\"107.596077\"/>\n     <use style=\"fill:#1f77b4;stroke:#1f77b4;\" x=\"237.103533\" xlink:href=\"#m2da1f891d0\" y=\"35.059119\"/>\n     <use style=\"fill:#1f77b4;stroke:#1f77b4;\" x=\"239.895401\" xlink:href=\"#m2da1f891d0\" y=\"98.598205\"/>\n     <use style=\"fill:#1f77b4;stroke:#1f77b4;\" x=\"242.687269\" xlink:href=\"#m2da1f891d0\" y=\"48.977218\"/>\n     <use style=\"fill:#1f77b4;stroke:#1f77b4;\" x=\"245.479137\" xlink:href=\"#m2da1f891d0\" y=\"35.059119\"/>\n     <use style=\"fill:#1f77b4;stroke:#1f77b4;\" x=\"248.271005\" xlink:href=\"#m2da1f891d0\" y=\"55.660014\"/>\n     <use style=\"fill:#1f77b4;stroke:#1f77b4;\" x=\"251.062873\" xlink:href=\"#m2da1f891d0\" y=\"41.305032\"/>\n     <use style=\"fill:#1f77b4;stroke:#1f77b4;\" x=\"253.854741\" xlink:href=\"#m2da1f891d0\" y=\"50.639658\"/>\n     <use style=\"fill:#1f77b4;stroke:#1f77b4;\" x=\"256.646609\" xlink:href=\"#m2da1f891d0\" y=\"37.050478\"/>\n     <use style=\"fill:#1f77b4;stroke:#1f77b4;\" x=\"259.438476\" xlink:href=\"#m2da1f891d0\" y=\"98.38723\"/>\n     <use style=\"fill:#1f77b4;stroke:#1f77b4;\" x=\"262.230344\" xlink:href=\"#m2da1f891d0\" y=\"106.517074\"/>\n     <use style=\"fill:#1f77b4;stroke:#1f77b4;\" x=\"265.022212\" xlink:href=\"#m2da1f891d0\" y=\"117.872216\"/>\n     <use style=\"fill:#1f77b4;stroke:#1f77b4;\" x=\"267.81408\" xlink:href=\"#m2da1f891d0\" y=\"196.816288\"/>\n     <use style=\"fill:#1f77b4;stroke:#1f77b4;\" x=\"270.605948\" xlink:href=\"#m2da1f891d0\" y=\"45.80162\"/>\n     <use style=\"fill:#1f77b4;stroke:#1f77b4;\" x=\"273.397816\" xlink:href=\"#m2da1f891d0\" y=\"35.059119\"/>\n     <use style=\"fill:#1f77b4;stroke:#1f77b4;\" x=\"276.189684\" xlink:href=\"#m2da1f891d0\" y=\"55.522702\"/>\n     <use style=\"fill:#1f77b4;stroke:#1f77b4;\" x=\"278.981552\" xlink:href=\"#m2da1f891d0\" y=\"67.119332\"/>\n     <use style=\"fill:#1f77b4;stroke:#1f77b4;\" x=\"281.77342\" xlink:href=\"#m2da1f891d0\" y=\"62.124741\"/>\n     <use style=\"fill:#1f77b4;stroke:#1f77b4;\" x=\"284.565288\" xlink:href=\"#m2da1f891d0\" y=\"37.730069\"/>\n     <use style=\"fill:#1f77b4;stroke:#1f77b4;\" x=\"287.357156\" xlink:href=\"#m2da1f891d0\" y=\"54.558918\"/>\n     <use style=\"fill:#1f77b4;stroke:#1f77b4;\" x=\"290.149024\" xlink:href=\"#m2da1f891d0\" y=\"41.334917\"/>\n     <use style=\"fill:#1f77b4;stroke:#1f77b4;\" x=\"292.940891\" xlink:href=\"#m2da1f891d0\" y=\"39.326317\"/>\n     <use style=\"fill:#1f77b4;stroke:#1f77b4;\" x=\"295.732759\" xlink:href=\"#m2da1f891d0\" y=\"87.472809\"/>\n     <use style=\"fill:#1f77b4;stroke:#1f77b4;\" x=\"298.524627\" xlink:href=\"#m2da1f891d0\" y=\"97.599142\"/>\n     <use style=\"fill:#1f77b4;stroke:#1f77b4;\" x=\"301.316495\" xlink:href=\"#m2da1f891d0\" y=\"35.059119\"/>\n     <use style=\"fill:#1f77b4;stroke:#1f77b4;\" x=\"304.108363\" xlink:href=\"#m2da1f891d0\" y=\"209.174212\"/>\n     <use style=\"fill:#1f77b4;stroke:#1f77b4;\" x=\"306.900231\" xlink:href=\"#m2da1f891d0\" y=\"69.959819\"/>\n     <use style=\"fill:#1f77b4;stroke:#1f77b4;\" x=\"309.692099\" xlink:href=\"#m2da1f891d0\" y=\"36.784964\"/>\n     <use style=\"fill:#1f77b4;stroke:#1f77b4;\" x=\"312.483967\" xlink:href=\"#m2da1f891d0\" y=\"53.772175\"/>\n     <use style=\"fill:#1f77b4;stroke:#1f77b4;\" x=\"315.275835\" xlink:href=\"#m2da1f891d0\" y=\"45.126544\"/>\n     <use style=\"fill:#1f77b4;stroke:#1f77b4;\" x=\"318.067703\" xlink:href=\"#m2da1f891d0\" y=\"35.059119\"/>\n     <use style=\"fill:#1f77b4;stroke:#1f77b4;\" x=\"320.859571\" xlink:href=\"#m2da1f891d0\" y=\"45.48988\"/>\n     <use style=\"fill:#1f77b4;stroke:#1f77b4;\" x=\"323.651439\" xlink:href=\"#m2da1f891d0\" y=\"44.472815\"/>\n     <use style=\"fill:#1f77b4;stroke:#1f77b4;\" x=\"326.443306\" xlink:href=\"#m2da1f891d0\" y=\"35.059119\"/>\n     <use style=\"fill:#1f77b4;stroke:#1f77b4;\" x=\"329.235174\" xlink:href=\"#m2da1f891d0\" y=\"35.059119\"/>\n     <use style=\"fill:#1f77b4;stroke:#1f77b4;\" x=\"332.027042\" xlink:href=\"#m2da1f891d0\" y=\"35.059119\"/>\n     <use style=\"fill:#1f77b4;stroke:#1f77b4;\" x=\"334.81891\" xlink:href=\"#m2da1f891d0\" y=\"123.630543\"/>\n     <use style=\"fill:#1f77b4;stroke:#1f77b4;\" x=\"337.610778\" xlink:href=\"#m2da1f891d0\" y=\"35.059119\"/>\n     <use style=\"fill:#1f77b4;stroke:#1f77b4;\" x=\"340.402646\" xlink:href=\"#m2da1f891d0\" y=\"75.571436\"/>\n     <use style=\"fill:#1f77b4;stroke:#1f77b4;\" x=\"343.194514\" xlink:href=\"#m2da1f891d0\" y=\"131.69038\"/>\n     <use style=\"fill:#1f77b4;stroke:#1f77b4;\" x=\"345.986382\" xlink:href=\"#m2da1f891d0\" y=\"46.462019\"/>\n     <use style=\"fill:#1f77b4;stroke:#1f77b4;\" x=\"348.77825\" xlink:href=\"#m2da1f891d0\" y=\"41.789912\"/>\n     <use style=\"fill:#1f77b4;stroke:#1f77b4;\" x=\"351.570118\" xlink:href=\"#m2da1f891d0\" y=\"79.78725\"/>\n     <use style=\"fill:#1f77b4;stroke:#1f77b4;\" x=\"354.361986\" xlink:href=\"#m2da1f891d0\" y=\"52.442874\"/>\n     <use style=\"fill:#1f77b4;stroke:#1f77b4;\" x=\"357.153854\" xlink:href=\"#m2da1f891d0\" y=\"35.059119\"/>\n     <use style=\"fill:#1f77b4;stroke:#1f77b4;\" x=\"359.945721\" xlink:href=\"#m2da1f891d0\" y=\"167.084496\"/>\n     <use style=\"fill:#1f77b4;stroke:#1f77b4;\" x=\"362.737589\" xlink:href=\"#m2da1f891d0\" y=\"46.438312\"/>\n     <use style=\"fill:#1f77b4;stroke:#1f77b4;\" x=\"365.529457\" xlink:href=\"#m2da1f891d0\" y=\"68.318735\"/>\n     <use style=\"fill:#1f77b4;stroke:#1f77b4;\" x=\"368.321325\" xlink:href=\"#m2da1f891d0\" y=\"35.059119\"/>\n     <use style=\"fill:#1f77b4;stroke:#1f77b4;\" x=\"371.113193\" xlink:href=\"#m2da1f891d0\" y=\"49.694026\"/>\n     <use style=\"fill:#1f77b4;stroke:#1f77b4;\" x=\"373.905061\" xlink:href=\"#m2da1f891d0\" y=\"47.767609\"/>\n     <use style=\"fill:#1f77b4;stroke:#1f77b4;\" x=\"376.696929\" xlink:href=\"#m2da1f891d0\" y=\"88.128831\"/>\n     <use style=\"fill:#1f77b4;stroke:#1f77b4;\" x=\"379.488797\" xlink:href=\"#m2da1f891d0\" y=\"94.559655\"/>\n     <use style=\"fill:#1f77b4;stroke:#1f77b4;\" x=\"382.280665\" xlink:href=\"#m2da1f891d0\" y=\"35.059119\"/>\n     <use style=\"fill:#1f77b4;stroke:#1f77b4;\" x=\"385.072533\" xlink:href=\"#m2da1f891d0\" y=\"114.343248\"/>\n     <use style=\"fill:#1f77b4;stroke:#1f77b4;\" x=\"387.864401\" xlink:href=\"#m2da1f891d0\" y=\"35.059119\"/>\n     <use style=\"fill:#1f77b4;stroke:#1f77b4;\" x=\"390.656269\" xlink:href=\"#m2da1f891d0\" y=\"61.083755\"/>\n     <use style=\"fill:#1f77b4;stroke:#1f77b4;\" x=\"393.448136\" xlink:href=\"#m2da1f891d0\" y=\"105.581994\"/>\n     <use style=\"fill:#1f77b4;stroke:#1f77b4;\" x=\"396.240004\" xlink:href=\"#m2da1f891d0\" y=\"35.059119\"/>\n     <use style=\"fill:#1f77b4;stroke:#1f77b4;\" x=\"399.031872\" xlink:href=\"#m2da1f891d0\" y=\"35.059119\"/>\n     <use style=\"fill:#1f77b4;stroke:#1f77b4;\" x=\"401.82374\" xlink:href=\"#m2da1f891d0\" y=\"35.059119\"/>\n     <use style=\"fill:#1f77b4;stroke:#1f77b4;\" x=\"404.615608\" xlink:href=\"#m2da1f891d0\" y=\"82.56741\"/>\n     <use style=\"fill:#1f77b4;stroke:#1f77b4;\" x=\"407.407476\" xlink:href=\"#m2da1f891d0\" y=\"83.401\"/>\n     <use style=\"fill:#1f77b4;stroke:#1f77b4;\" x=\"410.199344\" xlink:href=\"#m2da1f891d0\" y=\"128.901902\"/>\n     <use style=\"fill:#1f77b4;stroke:#1f77b4;\" x=\"412.991212\" xlink:href=\"#m2da1f891d0\" y=\"35.059119\"/>\n     <use style=\"fill:#1f77b4;stroke:#1f77b4;\" x=\"415.78308\" xlink:href=\"#m2da1f891d0\" y=\"68.965582\"/>\n     <use style=\"fill:#1f77b4;stroke:#1f77b4;\" x=\"418.574948\" xlink:href=\"#m2da1f891d0\" y=\"81.604617\"/>\n     <use style=\"fill:#1f77b4;stroke:#1f77b4;\" x=\"421.366816\" xlink:href=\"#m2da1f891d0\" y=\"35.059119\"/>\n     <use style=\"fill:#1f77b4;stroke:#1f77b4;\" x=\"424.158684\" xlink:href=\"#m2da1f891d0\" y=\"128.592574\"/>\n     <use style=\"fill:#1f77b4;stroke:#1f77b4;\" x=\"426.950551\" xlink:href=\"#m2da1f891d0\" y=\"49.682532\"/>\n    </g>\n   </g>\n   <g id=\"matplotlib.axis_1\">\n    <g id=\"xtick_1\">\n     <g id=\"line2d_1\">\n      <defs>\n       <path d=\"M 0 0 \nL 0 3.5 \n\" id=\"md3a464a49a\" style=\"stroke:#000000;stroke-width:0.8;\"/>\n      </defs>\n      <g>\n       <use style=\"stroke:#000000;stroke-width:0.8;\" x=\"119.845081\" xlink:href=\"#md3a464a49a\" y=\"239.758125\"/>\n      </g>\n     </g>\n     <g id=\"text_1\">\n      <!-- 0 -->\n      <defs>\n       <path d=\"M 31.78125 66.40625 \nQ 24.171875 66.40625 20.328125 58.90625 \nQ 16.5 51.421875 16.5 36.375 \nQ 16.5 21.390625 20.328125 13.890625 \nQ 24.171875 6.390625 31.78125 6.390625 \nQ 39.453125 6.390625 43.28125 13.890625 \nQ 47.125 21.390625 47.125 36.375 \nQ 47.125 51.421875 43.28125 58.90625 \nQ 39.453125 66.40625 31.78125 66.40625 \nz\nM 31.78125 74.21875 \nQ 44.046875 74.21875 50.515625 64.515625 \nQ 56.984375 54.828125 56.984375 36.375 \nQ 56.984375 17.96875 50.515625 8.265625 \nQ 44.046875 -1.421875 31.78125 -1.421875 \nQ 19.53125 -1.421875 13.0625 8.265625 \nQ 6.59375 17.96875 6.59375 36.375 \nQ 6.59375 54.828125 13.0625 64.515625 \nQ 19.53125 74.21875 31.78125 74.21875 \nz\n\" id=\"DejaVuSans-48\"/>\n      </defs>\n      <g transform=\"translate(103.938831 284.750312)scale(0.5 -0.5)\">\n       <use xlink:href=\"#DejaVuSans-48\"/>\n      </g>\n     </g>\n    </g>\n    <g id=\"xtick_2\">\n     <g id=\"line2d_2\">\n      <g>\n       <use style=\"stroke:#000000;stroke-width:0.8;\" x=\"399.031872\" xlink:href=\"#md3a464a49a\" y=\"239.758125\"/>\n      </g>\n     </g>\n     <g id=\"text_2\">\n      <!-- 100 -->\n      <defs>\n       <path d=\"M 12.40625 8.296875 \nL 28.515625 8.296875 \nL 28.515625 63.921875 \nL 10.984375 60.40625 \nL 10.984375 69.390625 \nL 28.421875 72.90625 \nL 38.28125 72.90625 \nL 38.28125 8.296875 \nL 54.390625 8.296875 \nL 54.390625 0 \nL 12.40625 0 \nz\n\" id=\"DejaVuSans-49\"/>\n      </defs>\n      <g transform=\"translate(351.313122 284.750312)scale(0.5 -0.5)\">\n       <use xlink:href=\"#DejaVuSans-49\"/>\n       <use x=\"63.623047\" xlink:href=\"#DejaVuSans-48\"/>\n       <use x=\"127.246094\" xlink:href=\"#DejaVuSans-48\"/>\n      </g>\n     </g>\n    </g>\n    <g id=\"text_3\">\n     <!-- Language -->\n     <defs>\n      <path d=\"M 9.8125 72.90625 \nL 19.671875 72.90625 \nL 19.671875 8.296875 \nL 55.171875 8.296875 \nL 55.171875 0 \nL 9.8125 0 \nz\n\" id=\"DejaVuSans-76\"/>\n      <path d=\"M 34.28125 27.484375 \nQ 23.390625 27.484375 19.1875 25 \nQ 14.984375 22.515625 14.984375 16.5 \nQ 14.984375 11.71875 18.140625 8.90625 \nQ 21.296875 6.109375 26.703125 6.109375 \nQ 34.1875 6.109375 38.703125 11.40625 \nQ 43.21875 16.703125 43.21875 25.484375 \nL 43.21875 27.484375 \nz\nM 52.203125 31.203125 \nL 52.203125 0 \nL 43.21875 0 \nL 43.21875 8.296875 \nQ 40.140625 3.328125 35.546875 0.953125 \nQ 30.953125 -1.421875 24.3125 -1.421875 \nQ 15.921875 -1.421875 10.953125 3.296875 \nQ 6 8.015625 6 15.921875 \nQ 6 25.140625 12.171875 29.828125 \nQ 18.359375 34.515625 30.609375 34.515625 \nL 43.21875 34.515625 \nL 43.21875 35.40625 \nQ 43.21875 41.609375 39.140625 45 \nQ 35.0625 48.390625 27.6875 48.390625 \nQ 23 48.390625 18.546875 47.265625 \nQ 14.109375 46.140625 10.015625 43.890625 \nL 10.015625 52.203125 \nQ 14.9375 54.109375 19.578125 55.046875 \nQ 24.21875 56 28.609375 56 \nQ 40.484375 56 46.34375 49.84375 \nQ 52.203125 43.703125 52.203125 31.203125 \nz\n\" id=\"DejaVuSans-97\"/>\n      <path d=\"M 54.890625 33.015625 \nL 54.890625 0 \nL 45.90625 0 \nL 45.90625 32.71875 \nQ 45.90625 40.484375 42.875 44.328125 \nQ 39.84375 48.1875 33.796875 48.1875 \nQ 26.515625 48.1875 22.3125 43.546875 \nQ 18.109375 38.921875 18.109375 30.90625 \nL 18.109375 0 \nL 9.078125 0 \nL 9.078125 54.6875 \nL 18.109375 54.6875 \nL 18.109375 46.1875 \nQ 21.34375 51.125 25.703125 53.5625 \nQ 30.078125 56 35.796875 56 \nQ 45.21875 56 50.046875 50.171875 \nQ 54.890625 44.34375 54.890625 33.015625 \nz\n\" id=\"DejaVuSans-110\"/>\n      <path d=\"M 45.40625 27.984375 \nQ 45.40625 37.75 41.375 43.109375 \nQ 37.359375 48.484375 30.078125 48.484375 \nQ 22.859375 48.484375 18.828125 43.109375 \nQ 14.796875 37.75 14.796875 27.984375 \nQ 14.796875 18.265625 18.828125 12.890625 \nQ 22.859375 7.515625 30.078125 7.515625 \nQ 37.359375 7.515625 41.375 12.890625 \nQ 45.40625 18.265625 45.40625 27.984375 \nz\nM 54.390625 6.78125 \nQ 54.390625 -7.171875 48.1875 -13.984375 \nQ 42 -20.796875 29.203125 -20.796875 \nQ 24.46875 -20.796875 20.265625 -20.09375 \nQ 16.0625 -19.390625 12.109375 -17.921875 \nL 12.109375 -9.1875 \nQ 16.0625 -11.328125 19.921875 -12.34375 \nQ 23.78125 -13.375 27.78125 -13.375 \nQ 36.625 -13.375 41.015625 -8.765625 \nQ 45.40625 -4.15625 45.40625 5.171875 \nL 45.40625 9.625 \nQ 42.625 4.78125 38.28125 2.390625 \nQ 33.9375 0 27.875 0 \nQ 17.828125 0 11.671875 7.65625 \nQ 5.515625 15.328125 5.515625 27.984375 \nQ 5.515625 40.671875 11.671875 48.328125 \nQ 17.828125 56 27.875 56 \nQ 33.9375 56 38.28125 53.609375 \nQ 42.625 51.21875 45.40625 46.390625 \nL 45.40625 54.6875 \nL 54.390625 54.6875 \nz\n\" id=\"DejaVuSans-103\"/>\n      <path d=\"M 8.5 21.578125 \nL 8.5 54.6875 \nL 17.484375 54.6875 \nL 17.484375 21.921875 \nQ 17.484375 14.15625 20.5 10.265625 \nQ 23.53125 6.390625 29.59375 6.390625 \nQ 36.859375 6.390625 41.078125 11.03125 \nQ 45.3125 15.671875 45.3125 23.6875 \nL 45.3125 54.6875 \nL 54.296875 54.6875 \nL 54.296875 0 \nL 45.3125 0 \nL 45.3125 8.40625 \nQ 42.046875 3.421875 37.71875 1 \nQ 33.40625 -1.421875 27.6875 -1.421875 \nQ 18.265625 -1.421875 13.375 4.4375 \nQ 8.5 10.296875 8.5 21.578125 \nz\nM 31.109375 56 \nz\n\" id=\"DejaVuSans-117\"/>\n      <path d=\"M 56.203125 29.59375 \nL 56.203125 25.203125 \nL 14.890625 25.203125 \nQ 15.484375 15.921875 20.484375 11.0625 \nQ 25.484375 6.203125 34.421875 6.203125 \nQ 39.59375 6.203125 44.453125 7.46875 \nQ 49.3125 8.734375 54.109375 11.28125 \nL 54.109375 2.78125 \nQ 49.265625 0.734375 44.1875 -0.34375 \nQ 39.109375 -1.421875 33.890625 -1.421875 \nQ 20.796875 -1.421875 13.15625 6.1875 \nQ 5.515625 13.8125 5.515625 26.8125 \nQ 5.515625 40.234375 12.765625 48.109375 \nQ 20.015625 56 32.328125 56 \nQ 43.359375 56 49.78125 48.890625 \nQ 56.203125 41.796875 56.203125 29.59375 \nz\nM 47.21875 32.234375 \nQ 47.125 39.59375 43.09375 43.984375 \nQ 39.0625 48.390625 32.421875 48.390625 \nQ 24.90625 48.390625 20.390625 44.140625 \nQ 15.875 39.890625 15.1875 32.171875 \nz\n\" id=\"DejaVuSans-101\"/>\n     </defs>\n     <g transform=\"translate(250.117188 306.747187)scale(0.1 -0.1)\">\n      <use xlink:href=\"#DejaVuSans-76\"/>\n      <use x=\"55.712891\" xlink:href=\"#DejaVuSans-97\"/>\n      <use x=\"116.992188\" xlink:href=\"#DejaVuSans-110\"/>\n      <use x=\"180.371094\" xlink:href=\"#DejaVuSans-103\"/>\n      <use x=\"243.847656\" xlink:href=\"#DejaVuSans-117\"/>\n      <use x=\"307.226562\" xlink:href=\"#DejaVuSans-97\"/>\n      <use x=\"368.505859\" xlink:href=\"#DejaVuSans-103\"/>\n      <use x=\"431.982422\" xlink:href=\"#DejaVuSans-101\"/>\n     </g>\n    </g>\n   </g>\n   <g id=\"matplotlib.axis_2\">\n    <g id=\"ytick_1\">\n     <g id=\"line2d_3\">\n      <defs>\n       <path d=\"M 0 0 \nL -3.5 0 \n\" id=\"m1ddba40551\" style=\"stroke:#000000;stroke-width:0.8;\"/>\n      </defs>\n      <g>\n       <use style=\"stroke:#000000;stroke-width:0.8;\" x=\"107.39375\" xlink:href=\"#m1ddba40551\" y=\"138.609776\"/>\n      </g>\n     </g>\n     <g id=\"text_4\">\n      <!-- 0.5 -->\n      <defs>\n       <path d=\"M 10.6875 12.40625 \nL 21 12.40625 \nL 21 0 \nL 10.6875 0 \nz\n\" id=\"DejaVuSans-46\"/>\n       <path d=\"M 10.796875 72.90625 \nL 49.515625 72.90625 \nL 49.515625 64.59375 \nL 19.828125 64.59375 \nL 19.828125 46.734375 \nQ 21.96875 47.46875 24.109375 47.828125 \nQ 26.265625 48.1875 28.421875 48.1875 \nQ 40.625 48.1875 47.75 41.5 \nQ 54.890625 34.8125 54.890625 23.390625 \nQ 54.890625 11.625 47.5625 5.09375 \nQ 40.234375 -1.421875 26.90625 -1.421875 \nQ 22.3125 -1.421875 17.546875 -0.640625 \nQ 12.796875 0.140625 7.71875 1.703125 \nL 7.71875 11.625 \nQ 12.109375 9.234375 16.796875 8.0625 \nQ 21.484375 6.890625 26.703125 6.890625 \nQ 35.15625 6.890625 40.078125 11.328125 \nQ 45.015625 15.765625 45.015625 23.390625 \nQ 45.015625 31 40.078125 35.4375 \nQ 35.15625 39.890625 26.703125 39.890625 \nQ 22.75 39.890625 18.8125 39.015625 \nQ 14.890625 38.140625 10.796875 36.28125 \nz\n\" id=\"DejaVuSans-53\"/>\n      </defs>\n      <g transform=\"translate(20.878125 157.60587)scale(0.5 -0.5)\">\n       <use xlink:href=\"#DejaVuSans-48\"/>\n       <use x=\"63.623047\" xlink:href=\"#DejaVuSans-46\"/>\n       <use x=\"95.410156\" xlink:href=\"#DejaVuSans-53\"/>\n      </g>\n     </g>\n    </g>\n    <g id=\"ytick_2\">\n     <g id=\"line2d_4\">\n      <g>\n       <use style=\"stroke:#000000;stroke-width:0.8;\" x=\"107.39375\" xlink:href=\"#m1ddba40551\" y=\"35.059119\"/>\n      </g>\n     </g>\n     <g id=\"text_5\">\n      <!-- 1.0 -->\n      <g transform=\"translate(20.878125 54.055213)scale(0.5 -0.5)\">\n       <use xlink:href=\"#DejaVuSans-49\"/>\n       <use x=\"63.623047\" xlink:href=\"#DejaVuSans-46\"/>\n       <use x=\"95.410156\" xlink:href=\"#DejaVuSans-48\"/>\n      </g>\n     </g>\n    </g>\n    <g id=\"text_6\">\n     <!-- Average Words Per Color -->\n     <defs>\n      <path d=\"M 34.1875 63.1875 \nL 20.796875 26.90625 \nL 47.609375 26.90625 \nz\nM 28.609375 72.90625 \nL 39.796875 72.90625 \nL 67.578125 0 \nL 57.328125 0 \nL 50.6875 18.703125 \nL 17.828125 18.703125 \nL 11.1875 0 \nL 0.78125 0 \nz\n\" id=\"DejaVuSans-65\"/>\n      <path d=\"M 2.984375 54.6875 \nL 12.5 54.6875 \nL 29.59375 8.796875 \nL 46.6875 54.6875 \nL 56.203125 54.6875 \nL 35.6875 0 \nL 23.484375 0 \nz\n\" id=\"DejaVuSans-118\"/>\n      <path d=\"M 41.109375 46.296875 \nQ 39.59375 47.171875 37.8125 47.578125 \nQ 36.03125 48 33.890625 48 \nQ 26.265625 48 22.1875 43.046875 \nQ 18.109375 38.09375 18.109375 28.8125 \nL 18.109375 0 \nL 9.078125 0 \nL 9.078125 54.6875 \nL 18.109375 54.6875 \nL 18.109375 46.1875 \nQ 20.953125 51.171875 25.484375 53.578125 \nQ 30.03125 56 36.53125 56 \nQ 37.453125 56 38.578125 55.875 \nQ 39.703125 55.765625 41.0625 55.515625 \nz\n\" id=\"DejaVuSans-114\"/>\n      <path id=\"DejaVuSans-32\"/>\n      <path d=\"M 3.328125 72.90625 \nL 13.28125 72.90625 \nL 28.609375 11.28125 \nL 43.890625 72.90625 \nL 54.984375 72.90625 \nL 70.3125 11.28125 \nL 85.59375 72.90625 \nL 95.609375 72.90625 \nL 77.296875 0 \nL 64.890625 0 \nL 49.515625 63.28125 \nL 33.984375 0 \nL 21.578125 0 \nz\n\" id=\"DejaVuSans-87\"/>\n      <path d=\"M 30.609375 48.390625 \nQ 23.390625 48.390625 19.1875 42.75 \nQ 14.984375 37.109375 14.984375 27.296875 \nQ 14.984375 17.484375 19.15625 11.84375 \nQ 23.34375 6.203125 30.609375 6.203125 \nQ 37.796875 6.203125 41.984375 11.859375 \nQ 46.1875 17.53125 46.1875 27.296875 \nQ 46.1875 37.015625 41.984375 42.703125 \nQ 37.796875 48.390625 30.609375 48.390625 \nz\nM 30.609375 56 \nQ 42.328125 56 49.015625 48.375 \nQ 55.71875 40.765625 55.71875 27.296875 \nQ 55.71875 13.875 49.015625 6.21875 \nQ 42.328125 -1.421875 30.609375 -1.421875 \nQ 18.84375 -1.421875 12.171875 6.21875 \nQ 5.515625 13.875 5.515625 27.296875 \nQ 5.515625 40.765625 12.171875 48.375 \nQ 18.84375 56 30.609375 56 \nz\n\" id=\"DejaVuSans-111\"/>\n      <path d=\"M 45.40625 46.390625 \nL 45.40625 75.984375 \nL 54.390625 75.984375 \nL 54.390625 0 \nL 45.40625 0 \nL 45.40625 8.203125 \nQ 42.578125 3.328125 38.25 0.953125 \nQ 33.9375 -1.421875 27.875 -1.421875 \nQ 17.96875 -1.421875 11.734375 6.484375 \nQ 5.515625 14.40625 5.515625 27.296875 \nQ 5.515625 40.1875 11.734375 48.09375 \nQ 17.96875 56 27.875 56 \nQ 33.9375 56 38.25 53.625 \nQ 42.578125 51.265625 45.40625 46.390625 \nz\nM 14.796875 27.296875 \nQ 14.796875 17.390625 18.875 11.75 \nQ 22.953125 6.109375 30.078125 6.109375 \nQ 37.203125 6.109375 41.296875 11.75 \nQ 45.40625 17.390625 45.40625 27.296875 \nQ 45.40625 37.203125 41.296875 42.84375 \nQ 37.203125 48.484375 30.078125 48.484375 \nQ 22.953125 48.484375 18.875 42.84375 \nQ 14.796875 37.203125 14.796875 27.296875 \nz\n\" id=\"DejaVuSans-100\"/>\n      <path d=\"M 44.28125 53.078125 \nL 44.28125 44.578125 \nQ 40.484375 46.53125 36.375 47.5 \nQ 32.28125 48.484375 27.875 48.484375 \nQ 21.1875 48.484375 17.84375 46.4375 \nQ 14.5 44.390625 14.5 40.28125 \nQ 14.5 37.15625 16.890625 35.375 \nQ 19.28125 33.59375 26.515625 31.984375 \nL 29.59375 31.296875 \nQ 39.15625 29.25 43.1875 25.515625 \nQ 47.21875 21.78125 47.21875 15.09375 \nQ 47.21875 7.46875 41.1875 3.015625 \nQ 35.15625 -1.421875 24.609375 -1.421875 \nQ 20.21875 -1.421875 15.453125 -0.5625 \nQ 10.6875 0.296875 5.421875 2 \nL 5.421875 11.28125 \nQ 10.40625 8.6875 15.234375 7.390625 \nQ 20.0625 6.109375 24.8125 6.109375 \nQ 31.15625 6.109375 34.5625 8.28125 \nQ 37.984375 10.453125 37.984375 14.40625 \nQ 37.984375 18.0625 35.515625 20.015625 \nQ 33.0625 21.96875 24.703125 23.78125 \nL 21.578125 24.515625 \nQ 13.234375 26.265625 9.515625 29.90625 \nQ 5.8125 33.546875 5.8125 39.890625 \nQ 5.8125 47.609375 11.28125 51.796875 \nQ 16.75 56 26.8125 56 \nQ 31.78125 56 36.171875 55.265625 \nQ 40.578125 54.546875 44.28125 53.078125 \nz\n\" id=\"DejaVuSans-115\"/>\n      <path d=\"M 19.671875 64.796875 \nL 19.671875 37.40625 \nL 32.078125 37.40625 \nQ 38.96875 37.40625 42.71875 40.96875 \nQ 46.484375 44.53125 46.484375 51.125 \nQ 46.484375 57.671875 42.71875 61.234375 \nQ 38.96875 64.796875 32.078125 64.796875 \nz\nM 9.8125 72.90625 \nL 32.078125 72.90625 \nQ 44.34375 72.90625 50.609375 67.359375 \nQ 56.890625 61.8125 56.890625 51.125 \nQ 56.890625 40.328125 50.609375 34.8125 \nQ 44.34375 29.296875 32.078125 29.296875 \nL 19.671875 29.296875 \nL 19.671875 0 \nL 9.8125 0 \nz\n\" id=\"DejaVuSans-80\"/>\n      <path d=\"M 64.40625 67.28125 \nL 64.40625 56.890625 \nQ 59.421875 61.53125 53.78125 63.8125 \nQ 48.140625 66.109375 41.796875 66.109375 \nQ 29.296875 66.109375 22.65625 58.46875 \nQ 16.015625 50.828125 16.015625 36.375 \nQ 16.015625 21.96875 22.65625 14.328125 \nQ 29.296875 6.6875 41.796875 6.6875 \nQ 48.140625 6.6875 53.78125 8.984375 \nQ 59.421875 11.28125 64.40625 15.921875 \nL 64.40625 5.609375 \nQ 59.234375 2.09375 53.4375 0.328125 \nQ 47.65625 -1.421875 41.21875 -1.421875 \nQ 24.65625 -1.421875 15.125 8.703125 \nQ 5.609375 18.84375 5.609375 36.375 \nQ 5.609375 53.953125 15.125 64.078125 \nQ 24.65625 74.21875 41.21875 74.21875 \nQ 47.75 74.21875 53.53125 72.484375 \nQ 59.328125 70.75 64.40625 67.28125 \nz\n\" id=\"DejaVuSans-67\"/>\n      <path d=\"M 9.421875 75.984375 \nL 18.40625 75.984375 \nL 18.40625 0 \nL 9.421875 0 \nz\n\" id=\"DejaVuSans-108\"/>\n     </defs>\n     <g transform=\"translate(14.798438 193.66)rotate(-90)scale(0.1 -0.1)\">\n      <use xlink:href=\"#DejaVuSans-65\"/>\n      <use x=\"68.330078\" xlink:href=\"#DejaVuSans-118\"/>\n      <use x=\"127.509766\" xlink:href=\"#DejaVuSans-101\"/>\n      <use x=\"189.033203\" xlink:href=\"#DejaVuSans-114\"/>\n      <use x=\"230.146484\" xlink:href=\"#DejaVuSans-97\"/>\n      <use x=\"291.425781\" xlink:href=\"#DejaVuSans-103\"/>\n      <use x=\"354.902344\" xlink:href=\"#DejaVuSans-101\"/>\n      <use x=\"416.425781\" xlink:href=\"#DejaVuSans-32\"/>\n      <use x=\"448.212891\" xlink:href=\"#DejaVuSans-87\"/>\n      <use x=\"547.011719\" xlink:href=\"#DejaVuSans-111\"/>\n      <use x=\"608.193359\" xlink:href=\"#DejaVuSans-114\"/>\n      <use x=\"649.291016\" xlink:href=\"#DejaVuSans-100\"/>\n      <use x=\"712.767578\" xlink:href=\"#DejaVuSans-115\"/>\n      <use x=\"764.867188\" xlink:href=\"#DejaVuSans-32\"/>\n      <use x=\"796.654297\" xlink:href=\"#DejaVuSans-80\"/>\n      <use x=\"856.910156\" xlink:href=\"#DejaVuSans-101\"/>\n      <use x=\"918.433594\" xlink:href=\"#DejaVuSans-114\"/>\n      <use x=\"959.546875\" xlink:href=\"#DejaVuSans-32\"/>\n      <use x=\"991.333984\" xlink:href=\"#DejaVuSans-67\"/>\n      <use x=\"1061.158203\" xlink:href=\"#DejaVuSans-111\"/>\n      <use x=\"1122.339844\" xlink:href=\"#DejaVuSans-108\"/>\n      <use x=\"1150.123047\" xlink:href=\"#DejaVuSans-111\"/>\n      <use x=\"1211.304688\" xlink:href=\"#DejaVuSans-114\"/>\n     </g>\n    </g>\n   </g>\n   <g id=\"patch_3\">\n    <path d=\"M 107.39375 239.758125 \nL 107.39375 22.318125 \n\" style=\"fill:none;stroke:#000000;stroke-linecap:square;stroke-linejoin:miter;stroke-width:0.8;\"/>\n   </g>\n   <g id=\"patch_4\">\n    <path d=\"M 442.19375 239.758125 \nL 442.19375 22.318125 \n\" style=\"fill:none;stroke:#000000;stroke-linecap:square;stroke-linejoin:miter;stroke-width:0.8;\"/>\n   </g>\n   <g id=\"patch_5\">\n    <path d=\"M 107.39375 239.758125 \nL 442.19375 239.758125 \n\" style=\"fill:none;stroke:#000000;stroke-linecap:square;stroke-linejoin:miter;stroke-width:0.8;\"/>\n   </g>\n   <g id=\"patch_6\">\n    <path d=\"M 107.39375 22.318125 \nL 442.19375 22.318125 \n\" style=\"fill:none;stroke:#000000;stroke-linecap:square;stroke-linejoin:miter;stroke-width:0.8;\"/>\n   </g>\n   <g id=\"text_7\">\n    <!-- Language Vs. Average Words (Male) -->\n    <defs>\n     <path d=\"M 28.609375 0 \nL 0.78125 72.90625 \nL 11.078125 72.90625 \nL 34.1875 11.53125 \nL 57.328125 72.90625 \nL 67.578125 72.90625 \nL 39.796875 0 \nz\n\" id=\"DejaVuSans-86\"/>\n     <path d=\"M 31 75.875 \nQ 24.46875 64.65625 21.28125 53.65625 \nQ 18.109375 42.671875 18.109375 31.390625 \nQ 18.109375 20.125 21.3125 9.0625 \nQ 24.515625 -2 31 -13.1875 \nL 23.1875 -13.1875 \nQ 15.875 -1.703125 12.234375 9.375 \nQ 8.59375 20.453125 8.59375 31.390625 \nQ 8.59375 42.28125 12.203125 53.3125 \nQ 15.828125 64.359375 23.1875 75.875 \nz\n\" id=\"DejaVuSans-40\"/>\n     <path d=\"M 9.8125 72.90625 \nL 24.515625 72.90625 \nL 43.109375 23.296875 \nL 61.8125 72.90625 \nL 76.515625 72.90625 \nL 76.515625 0 \nL 66.890625 0 \nL 66.890625 64.015625 \nL 48.09375 14.015625 \nL 38.1875 14.015625 \nL 19.390625 64.015625 \nL 19.390625 0 \nL 9.8125 0 \nz\n\" id=\"DejaVuSans-77\"/>\n     <path d=\"M 8.015625 75.875 \nL 15.828125 75.875 \nQ 23.140625 64.359375 26.78125 53.3125 \nQ 30.421875 42.28125 30.421875 31.390625 \nQ 30.421875 20.453125 26.78125 9.375 \nQ 23.140625 -1.703125 15.828125 -13.1875 \nL 8.015625 -13.1875 \nQ 14.5 -2 17.703125 9.0625 \nQ 20.90625 20.125 20.90625 31.390625 \nQ 20.90625 42.671875 17.703125 53.65625 \nQ 14.5 64.65625 8.015625 75.875 \nz\n\" id=\"DejaVuSans-41\"/>\n    </defs>\n    <g transform=\"translate(165.536563 16.318125)scale(0.12 -0.12)\">\n     <use xlink:href=\"#DejaVuSans-76\"/>\n     <use x=\"55.712891\" xlink:href=\"#DejaVuSans-97\"/>\n     <use x=\"116.992188\" xlink:href=\"#DejaVuSans-110\"/>\n     <use x=\"180.371094\" xlink:href=\"#DejaVuSans-103\"/>\n     <use x=\"243.847656\" xlink:href=\"#DejaVuSans-117\"/>\n     <use x=\"307.226562\" xlink:href=\"#DejaVuSans-97\"/>\n     <use x=\"368.505859\" xlink:href=\"#DejaVuSans-103\"/>\n     <use x=\"431.982422\" xlink:href=\"#DejaVuSans-101\"/>\n     <use x=\"493.505859\" xlink:href=\"#DejaVuSans-32\"/>\n     <use x=\"525.292969\" xlink:href=\"#DejaVuSans-86\"/>\n     <use x=\"593.701172\" xlink:href=\"#DejaVuSans-115\"/>\n     <use x=\"645.800781\" xlink:href=\"#DejaVuSans-46\"/>\n     <use x=\"677.587891\" xlink:href=\"#DejaVuSans-32\"/>\n     <use x=\"709.375\" xlink:href=\"#DejaVuSans-65\"/>\n     <use x=\"777.705078\" xlink:href=\"#DejaVuSans-118\"/>\n     <use x=\"836.884766\" xlink:href=\"#DejaVuSans-101\"/>\n     <use x=\"898.408203\" xlink:href=\"#DejaVuSans-114\"/>\n     <use x=\"939.521484\" xlink:href=\"#DejaVuSans-97\"/>\n     <use x=\"1000.800781\" xlink:href=\"#DejaVuSans-103\"/>\n     <use x=\"1064.277344\" xlink:href=\"#DejaVuSans-101\"/>\n     <use x=\"1125.800781\" xlink:href=\"#DejaVuSans-32\"/>\n     <use x=\"1157.587891\" xlink:href=\"#DejaVuSans-87\"/>\n     <use x=\"1256.386719\" xlink:href=\"#DejaVuSans-111\"/>\n     <use x=\"1317.568359\" xlink:href=\"#DejaVuSans-114\"/>\n     <use x=\"1358.666016\" xlink:href=\"#DejaVuSans-100\"/>\n     <use x=\"1422.142578\" xlink:href=\"#DejaVuSans-115\"/>\n     <use x=\"1474.242188\" xlink:href=\"#DejaVuSans-32\"/>\n     <use x=\"1506.029297\" xlink:href=\"#DejaVuSans-40\"/>\n     <use x=\"1545.042969\" xlink:href=\"#DejaVuSans-77\"/>\n     <use x=\"1631.322266\" xlink:href=\"#DejaVuSans-97\"/>\n     <use x=\"1692.601562\" xlink:href=\"#DejaVuSans-108\"/>\n     <use x=\"1720.384766\" xlink:href=\"#DejaVuSans-101\"/>\n     <use x=\"1781.908203\" xlink:href=\"#DejaVuSans-41\"/>\n    </g>\n   </g>\n  </g>\n </g>\n <defs>\n  <clipPath id=\"p40da4ac2ed\">\n   <rect height=\"217.44\" width=\"334.8\" x=\"107.39375\" y=\"22.318125\"/>\n  </clipPath>\n </defs>\n</svg>\n",
      "text/plain": "<Figure size 432x288 with 1 Axes>"
     },
     "metadata": {
      "needs_background": "light"
     },
     "output_type": "display_data"
    }
   ],
   "source": [
    "maleSpeakerArray = []\n",
    "femaleSpeakerArray = []\n",
    "termsChipsRatio = np.zeros((111, 111))\n",
    "for language in range(1,len(speakerInfo)+1):\n",
    "    for speaker in range(1,len(speakerInfo[language])+1):\n",
    "        chipsShown = 0\n",
    "        try:\n",
    "            for key in fociData[language][speaker].keys():\n",
    "                chipsShown += len(fociData[language][speaker][key])\n",
    "            termsChipsRatio[language][speaker] = np.divide(len(fociData[language][speaker].keys()), chipsShown) \n",
    "            if speakerInfo[language][speaker][0][1] == 'M':\n",
    "                appendString = [language, speaker, termsChipsRatio[language][speaker]]\n",
    "                maleSpeakerArray.append(appendString)\n",
    "            elif speakerInfo[language][speaker][0][1] == 'F':\n",
    "                appendString = [language, speaker, termsChipsRatio[language][speaker]]\n",
    "                femaleSpeakerArray.append(appendString)\n",
    "        except:\n",
    "            pass\n",
    "\n",
    "fsum = 0\n",
    "fratios = []\n",
    "mratios = []\n",
    "for speaker in femaleSpeakerArray:\n",
    "    fsum += speaker[2]\n",
    "    fratios.append(speaker[2])\n",
    "favg = np.divide(fsum, len(femaleSpeakerArray))\n",
    "msum = 0\n",
    "for speaker in maleSpeakerArray:\n",
    "    msum += speaker[2]\n",
    "    mratios.append(speaker[2])\n",
    "mavg = np.divide(msum, len(maleSpeakerArray))\n",
    "\n",
    "maleStdDevArray = np.std(mratios)\n",
    "femaleStdDevArray = np.std(fratios)\n",
    "\n",
    "maleLanguageAvgRatioArray = []\n",
    "languageSum = 0\n",
    "count = 0\n",
    "currLanguage = 1\n",
    "maleLanguageAvgRatio = 0\n",
    "for speaker in maleSpeakerArray:\n",
    "    if speaker[0] == currLanguage:\n",
    "        languageSum += speaker[2]\n",
    "        count += 1        \n",
    "    else:\n",
    "        maleLanguageAvgRatio = languageSum / count\n",
    "        maleLanguageAvgRatioArray.append(maleLanguageAvgRatio)\n",
    "        count = 0\n",
    "        languageSum = 0\n",
    "        currLanguage = speaker[0]\n",
    "        languageSum += speaker[2]\n",
    "        count += 1\n",
    "maleLanguageAvgRatio = languageSum / count\n",
    "maleLanguageAvgRatioArray.append(maleLanguageAvgRatio)  \n",
    "      \n",
    "femaleLanguageAvgRatioArray = []\n",
    "femaleLanguageSum = 0\n",
    "femaleCount = 0\n",
    "femaleCurrLanguage = 1\n",
    "femaleLanguageAvgRatio = 0\n",
    "for index in range(len(femaleSpeakerArray)):\n",
    "    if femaleSpeakerArray[index][0] == femaleCurrLanguage:\n",
    "        femaleLanguageSum += femaleSpeakerArray[index][2]\n",
    "        femaleCount += 1 \n",
    "    else:\n",
    "        femaleLanguageAvgRatio = femaleLanguageSum / femaleCount\n",
    "        femaleLanguageAvgRatioArray.append(femaleLanguageAvgRatio)\n",
    "        femaleCount = 0\n",
    "        femaleLanguageSum = 0\n",
    "        femaleCurrLanguage = femaleSpeakerArray[index][0]\n",
    "        femaleLanguageSum += femaleSpeakerArray[index][2]\n",
    "        femaleCount += 1\n",
    "#additional call outside of for loop to account for last avg ratio.\n",
    "femaleLanguageAvgRatio = femaleLanguageSum / femaleCount\n",
    "femaleLanguageAvgRatioArray.append(femaleLanguageAvgRatio)\n",
    "\n",
    "plt.scatter(namingData.keys(), femaleLanguageAvgRatioArray)\n",
    "plt.title(\"Language Vs. Average Words (Female)\")\n",
    "plt.xlabel(\"Language\")\n",
    "plt.ylabel(\"Average Words Per Color\")\n",
    "plt.show()\n",
    "\n",
    "plt.scatter(namingData.keys(), maleLanguageAvgRatioArray)\n",
    "plt.title(\"Language Vs. Average Words (Male)\")\n",
    "plt.xlabel(\"Language\")\n",
    "plt.ylabel(\"Average Words Per Color\")\n",
    "plt.show()"
   ]
  },
  {
   "cell_type": "markdown",
   "metadata": {},
   "source": [
    "For example, uncomment the following line to access _(age, gender)_ information for speaker 1 from language 1:"
   ]
  },
  {
   "cell_type": "code",
   "execution_count": 0,
   "metadata": {},
   "outputs": [],
   "source": [
    " for language in range(1,len(speakerInfo)):\n",
    "     for speaker in range(1,len(speakerInfo[language])):\n",
    "         if(len(speakerInfo[language][speaker]) > 1):\n",
    "             print(\"bad news\")\n",
    " speakerInfo[1][1]"
   ]
  },
  {
   "cell_type": "code",
   "execution_count": 0,
   "metadata": {},
   "outputs": [],
   "source": [
    "mpermutations = []\n",
    "jumble_mspeakers = maleSpeakerArray\n",
    "fpermutations = []\n",
    "jumble_fspeakers = femaleSpeakerArray\n",
    "for x in range (0, 1000):\n",
    "    np.random.seed(x)\n",
    "    np.random.shuffle(jumble_fspeakers)\n",
    "    fspeaker_words = np.zeros(len(jumble_fspeakers))\n",
    "    for i in range (0, len(jumble_fspeakers)):\n",
    "        fspeaker_words[i] = jumble_fspeakers[x][2]\n",
    "        \n",
    "    fpermutations.append(np.divide(np.sum(fspeaker_words), 1000))\n",
    "for x in range (0, 1000):\n",
    "    np.random.seed(x)\n",
    "    np.random.shuffle(jumble_mspeakers)\n",
    "    mspeaker_words = np.zeros(len(jumble_mspeakers))\n",
    "    for i in range (0, len(jumble_mspeakers)):\n",
    "        mspeaker_words[i] = jumble_mspeakers[x][2]\n",
    "        \n",
    "    mpermutations.append(np.divide(np.sum(mspeaker_words), 1000))\n",
    "print(len(fpermutations))\n",
    "print(np.average(mpermutations))\n",
    "print(mpermutations[345:355])\n",
    "print(mavg)\n",
    "mcount = 0\n",
    "for x in mpermutations:\n",
    "    if (x <= mavg):\n",
    "        mcount += 1\n",
    "mp_value = mcount/len(maleSpeakerArray)\n",
    "\n",
    "fcount = 0\n",
    "for x in fpermutations:\n",
    "    if (x <= favg):\n",
    "        fcount += 1\n",
    "fp_value = fcount/len(femaleSpeakerArray)\n",
    "\n",
    "\n",
    "print(fp_value, mp_value)\n",
    "\n",
    "stats.ttest_ind(mpermutations, fpermutations)\n"
   ]
  },
  {
   "cell_type": "markdown",
   "metadata": {},
   "source": [
    "## Demo 6: Visualize color naming from an individual speaker\n",
    "\n",
    "> Naming patterns from a speaker can be visualized in the stimulus palette _(Munsell space)_.\n",
    "\n",
    "______________________________________________\n",
    "\n",
    "Extract an example speaker datum from an example language."
   ]
  },
  {
   "cell_type": "code",
   "execution_count": 0,
   "metadata": {},
   "outputs": [],
   "source": [
    "lg61_spk5 = namingData[61][5]"
   ]
  },
  {
   "cell_type": "markdown",
   "metadata": {},
   "source": [
    "Extract color terms used by that speaker."
   ]
  },
  {
   "cell_type": "code",
   "execution_count": 0,
   "metadata": {},
   "outputs": [],
   "source": [
    "terms = lg61_spk5.values()"
   ]
  },
  {
   "cell_type": "markdown",
   "metadata": {},
   "source": [
    "Encode the color terms into random numbers (for plotting purposes)."
   ]
  },
  {
   "cell_type": "code",
   "execution_count": 0,
   "metadata": {},
   "outputs": [],
   "source": [
    "encoded_terms = map_array_to(terms, generate_random_values(terms))"
   ]
  },
  {
   "cell_type": "markdown",
   "metadata": {},
   "source": [
    "Visualize the color naming pattern for that speaker&mdash;each color patch corresponds to extension of a color term. Color scheme is randomized, but the partition of the color space is invariant."
   ]
  },
  {
   "cell_type": "code",
   "execution_count": 0,
   "metadata": {},
   "outputs": [],
   "source": [
    "plotValues(encoded_terms)"
   ]
  },
  {
   "cell_type": "markdown",
   "metadata": {},
   "source": [
    "**Note**: `plotValues()` is a generic function for visualizing various kinds of information on the chart, suited to needs."
   ]
  },
  {
   "cell_type": "markdown",
   "metadata": {},
   "source": [
    "Now you are in a position to start exploring this data set - enjoy!"
   ]
  },
  {
   "cell_type": "code",
   "execution_count": null,
   "metadata": {},
   "outputs": [],
   "source": []
  }
 ],
 "metadata": {
  "anaconda-cloud": {},
  "kernelspec": {
   "display_name": "Python 3",
   "language": "python",
   "name": "python3"
  },
  "language_info": {
   "codemirror_mode": {
    "name": "ipython",
    "version": 3
   },
   "file_extension": ".py",
   "mimetype": "text/x-python",
   "name": "python",
   "nbconvert_exporter": "python",
   "pygments_lexer": "ipython3",
   "version": "3.6.2"
  }
 },
 "nbformat": 4,
 "nbformat_minor": 1
}
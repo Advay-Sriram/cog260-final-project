{
 "cells": [
  {
   "cell_type": "markdown",
   "metadata": {
    "collapsed": true
   },
   "source": [
    "# Demos for analyzing World Color Survey (WCS)\n",
    "\n",
    "COG 260: Data, Computation, and The Mind (Yang Xu)\n",
    "\n",
    "Data source: http://www1.icsi.berkeley.edu/wcs/data.html\n",
    "\n",
    "______________________________________________\n",
    "\n",
    "Import helper function file for WCS data analysis."
   ]
  },
  {
   "cell_type": "code",
   "execution_count": 21,
   "metadata": {},
   "outputs": [],
   "source": [
    "from wcs_helper_functions import *"
   ]
  },
  {
   "cell_type": "markdown",
   "metadata": {},
   "source": [
    "Import relevant Python libraries."
   ]
  },
  {
   "cell_type": "code",
   "execution_count": 22,
   "metadata": {},
   "outputs": [],
   "source": [
    "import numpy as np\n",
    "from scipy import stats\n",
    "from random import random\n",
    "%matplotlib inline"
   ]
  },
  {
   "cell_type": "markdown",
   "metadata": {},
   "source": [
    "## Demo 1: Import stimulus (color chip) information in [Munsell space](https://en.wikipedia.org/wiki/Munsell_color_system)\n",
    "\n",
    "> Stimuli were 330 color chips in Munsell space, each defined along lightness and hue dimensions.\n",
    "\n",
    "> Each color chip has an index _(from 1 to 330)_ and a coordinate (lightness *(alphabet)*, hue *(integer)*).\n",
    "\n",
    "In the following section, you will learn how to convert from **(a) index to coordinate** and **(b) coordinate to index**.\n",
    "\n",
    "______________________________________________\n",
    "\n",
    "Load chip information in Munsell space. \n",
    "\n",
    "`munsellInfo` is a 2-element tuple with dictionary elements."
   ]
  },
  {
   "cell_type": "code",
   "execution_count": 23,
   "metadata": {},
   "outputs": [],
   "source": [
    "munsellInfo = readChipData('./WCS_data_core/chip.txt');"
   ]
  },
  {
   "cell_type": "markdown",
   "metadata": {},
   "source": [
    "### (a) Index &rarr; Coordinate"
   ]
  },
  {
   "cell_type": "markdown",
   "metadata": {},
   "source": [
    "Access the second dictionary in `munsellInfo`."
   ]
  },
  {
   "cell_type": "code",
   "execution_count": 24,
   "metadata": {},
   "outputs": [],
   "source": [
    "indexCoord = munsellInfo[1]"
   ]
  },
  {
   "cell_type": "markdown",
   "metadata": {},
   "source": [
    "`indexCoord` is a dictionary with **index _(key)_ &rarr; coordinate _(value)_** pairs. For example, to retrieve the Munsell coordinate _(lightness, hue)_ for chip with numerical index 1:"
   ]
  },
  {
   "cell_type": "code",
   "execution_count": 25,
   "metadata": {},
   "outputs": [
    {
     "name": "stdout",
     "output_type": "stream",
     "text": [
      "('E', '29')\n"
     ]
    }
   ],
   "source": [
    "print(indexCoord[1])"
   ]
  },
  {
   "cell_type": "markdown",
   "metadata": {},
   "source": [
    "You can also uncomment the following to display full stimulus information (long)."
   ]
  },
  {
   "cell_type": "code",
   "execution_count": 26,
   "metadata": {},
   "outputs": [],
   "source": [
    "# print(indexCoord)"
   ]
  },
  {
   "cell_type": "markdown",
   "metadata": {},
   "source": [
    "### (b) Coordinate &rarr; Index"
   ]
  },
  {
   "cell_type": "markdown",
   "metadata": {},
   "source": [
    "Access the first dictionary in `munsellInfo`."
   ]
  },
  {
   "cell_type": "code",
   "execution_count": 27,
   "metadata": {},
   "outputs": [],
   "source": [
    "coordIndex = munsellInfo[0]"
   ]
  },
  {
   "cell_type": "markdown",
   "metadata": {},
   "source": [
    "`coordIndex` is a dictionary with **coordinate _(key)_ &rarr; index _(value)_** pairs. For example, to access numerical index for the color chip at Munsell coordinate _(D, 11)_:"
   ]
  },
  {
   "cell_type": "code",
   "execution_count": 28,
   "metadata": {},
   "outputs": [
    {
     "name": "stdout",
     "output_type": "stream",
     "text": [
      "258\n"
     ]
    }
   ],
   "source": [
    "print(coordIndex['D11'])"
   ]
  },
  {
   "cell_type": "markdown",
   "metadata": {},
   "source": [
    "You can also uncomment the following to display full stimulus information (long)."
   ]
  },
  {
   "cell_type": "code",
   "execution_count": 29,
   "metadata": {},
   "outputs": [],
   "source": [
    "# print(coordIndex)"
   ]
  },
  {
   "cell_type": "markdown",
   "metadata": {},
   "source": [
    "## Demo 2: Import stimulus information in [CIELAB space](https://en.wikipedia.org/wiki/Lab_color_space)\n",
    "\n",
    "> Each of the 330 stimuli can also be mapped to the 3D CIELAB space, where the dimensions are `l` _(lightness)_, `a`, & `b` _(color opponency)_.\n",
    "\n",
    "> CIELAB Coordinates have a **one-to-one** correspondence with Munsell index, which ranges from 1 to 330.\n",
    "\n",
    "______________________________________________\n",
    "\n",
    "Load chip coordinates in CIELAB. \n",
    "\n",
    "`cielabCoord` is a dictionary with **index _(key)_ &rarr; CIELAB Coordinate _(value)_** pairs."
   ]
  },
  {
   "cell_type": "code",
   "execution_count": 30,
   "metadata": {},
   "outputs": [],
   "source": [
    "cielabCoord = readClabData('./WCS_data_core/cnum-vhcm-lab-new.txt')"
   ]
  },
  {
   "cell_type": "markdown",
   "metadata": {},
   "source": [
    "For example, to obtain the CIELAB coordinates for chip with numerical index 1:"
   ]
  },
  {
   "cell_type": "code",
   "execution_count": 31,
   "metadata": {},
   "outputs": [
    {
     "name": "stdout",
     "output_type": "stream",
     "text": [
      "('61.70', '-4.52', '-39.18')\n"
     ]
    }
   ],
   "source": [
    "print(cielabCoord[1])"
   ]
  },
  {
   "cell_type": "markdown",
   "metadata": {},
   "source": [
    "## Demo 3: Import color naming data\n",
    "    \n",
    "> Each of the 330 color chips was named by speakers of 110 different languages.\n",
    "\n",
    "______________________________________________\n",
    "\n",
    "Load naming data. \n",
    "\n",
    "`namingData` is a hierarchical dictionary organized as follows:\n",
    "\n",
    "**language _(1 - 110)_ &rarr; speaker _(1 - *range varies per language*)_ &rarr; chip index _(1 - 330)_ &rarr; color term**"
   ]
  },
  {
   "cell_type": "code",
   "execution_count": 32,
   "metadata": {},
   "outputs": [],
   "source": [
    "namingData = readNamingData('./WCS_data_core/term.txt')"
   ]
  },
  {
   "cell_type": "markdown",
   "metadata": {},
   "source": [
    "For example, to obtain naming data from language 1 and speaker 1 for all 330 color chips:"
   ]
  },
  {
   "cell_type": "code",
   "execution_count": 33,
   "metadata": {},
   "outputs": [],
   "source": [
    "namingData[1][4]; # remove semicolon to see data in full"
   ]
  },
  {
   "cell_type": "markdown",
   "metadata": {},
   "source": [
    "For example, to see how many speakers language 1 has:"
   ]
  },
  {
   "cell_type": "code",
   "execution_count": 34,
   "metadata": {},
   "outputs": [
    {
     "data": {
      "text/plain": [
       "25"
      ]
     },
     "execution_count": 34,
     "metadata": {},
     "output_type": "execute_result"
    }
   ],
   "source": [
    "len(namingData[1])"
   ]
  },
  {
   "cell_type": "markdown",
   "metadata": {},
   "source": [
    "## Demo 4: Import color foci data\n",
    "    \n",
    "> Apart from naming the color chips, each speaker also pointed to foci color chips for each color term they had used.\n",
    "\n",
    "> **Note**: A single color term may have multiple foci locations.\n",
    "\n",
    "______________________________________________\n",
    "\n",
    "Load foci data. \n",
    "\n",
    "`fociData` is a hierarchical dictionary organized as follows: \n",
    "\n",
    "**language _(1 - 110)_ &rarr; speaker _(1 - *range varies per language*)_ &rarr; color term &rarr; foci coordinates**"
   ]
  },
  {
   "cell_type": "code",
   "execution_count": 35,
   "metadata": {},
   "outputs": [],
   "source": [
    "fociData = readFociData('./WCS_data_core/foci-exp.txt');"
   ]
  },
  {
   "cell_type": "markdown",
   "metadata": {},
   "source": [
    "For example, to obtain foci data for language 1 and speaker 1, where each entry shows foci locations for given term: "
   ]
  },
  {
   "cell_type": "code",
   "execution_count": 36,
   "metadata": {},
   "outputs": [
    {
     "data": {
      "text/plain": [
       "{'AS': ['C:4', 'C:5', 'C:6'],\n",
       " 'CA': ['F:19', 'F:20', 'F:21', 'G:19', 'G:20', 'G:21'],\n",
       " 'FE': ['C:8', 'C:9', 'C:10'],\n",
       " 'FS': ['G:1', 'G:2', 'G:3'],\n",
       " 'MA': ['E:38', 'E:39', 'E:40']}"
      ]
     },
     "execution_count": 36,
     "metadata": {},
     "output_type": "execute_result"
    }
   ],
   "source": [
    "fociData[86][2]"
   ]
  },
  {
   "cell_type": "markdown",
   "metadata": {},
   "source": [
    "In the above example, foci for term 'LF' is located at coordinate _(A, 0)_ in the Munsell chart."
   ]
  },
  {
   "cell_type": "markdown",
   "metadata": {},
   "source": [
    "## Demo 5: Import speaker demographic information\n",
    "\n",
    "> Most speakers' age _(integer)_ and gender _(M/F)_ information was recorded.\n",
    "\n",
    "______________________________________________\n",
    "\n",
    "Load speaker information.\n",
    "\n",
    "`speakerInfo` is a hierarchical dictionary organized as follows:\n",
    "\n",
    "**language &rarr; speaker &rarr; (age, gender)**"
   ]
  },
  {
   "cell_type": "code",
   "execution_count": 37,
   "metadata": {},
   "outputs": [],
   "source": [
    "speakerInfo = readSpeakerData('./WCS_data_core/spkr-lsas.txt')"
   ]
  },
  {
   "cell_type": "markdown",
   "metadata": {},
   "source": [
    "For example, uncomment the following line to access _(age, gender)_ information for all speakers from language 1:"
   ]
  },
  {
   "cell_type": "code",
   "execution_count": 38,
   "metadata": {},
   "outputs": [
    {
     "name": "stdout",
     "output_type": "stream",
     "text": [
      "0.32\n",
      "1234\n",
      "1304\n",
      "2538\n",
      "0.8342024518700986 0.8544188143636425\n"
     ]
    },
    {
     "data": {
      "text/plain": [
       "Ttest_indResult(statistic=1.8724391724341147, pvalue=0.06126085560707872)"
      ]
     },
     "execution_count": 38,
     "metadata": {},
     "output_type": "execute_result"
    }
   ],
   "source": [
    "maleSpeakerArray = []\n",
    "femaleSpeakerArray = []\n",
    "termsChipsRatio = np.zeros((110, 110))\n",
    "for language in range(1,len(speakerInfo)+1):\n",
    "    for speaker in range(1,len(speakerInfo[language])+1):\n",
    "        chipsShown = 0\n",
    "        try:\n",
    "            for key in fociData[language][speaker].keys():\n",
    "                chipsShown += len(fociData[language][speaker][key])\n",
    "            termsChipsRatio[language][speaker] = np.divide(len(fociData[language][speaker].keys()), chipsShown) \n",
    "            if speakerInfo[language][speaker][0][1] == 'M':\n",
    "                appendString = [language, speaker, termsChipsRatio[language][speaker]]\n",
    "                maleSpeakerArray.append(appendString)\n",
    "            elif speakerInfo[language][speaker][0][1] == 'F':\n",
    "                appendString = [language, speaker, termsChipsRatio[language][speaker]]\n",
    "                femaleSpeakerArray.append(appendString)\n",
    "        except:\n",
    "            pass\n",
    "print(femaleSpeakerArray[1][2])\n",
    "print(len(femaleSpeakerArray))\n",
    "print(len(maleSpeakerArray))\n",
    "print(len(maleSpeakerArray)+ len(femaleSpeakerArray))\n",
    "fsum = 0\n",
    "fratios = []\n",
    "mratios = []\n",
    "for speaker in femaleSpeakerArray:\n",
    "    fsum += speaker[2]\n",
    "    fratios.append(speaker[2])\n",
    "favg = np.divide(fsum, len(femaleSpeakerArray))\n",
    "msum = 0\n",
    "for speaker in maleSpeakerArray:\n",
    "    msum += speaker[2]\n",
    "    mratios.append(speaker[2])\n",
    "mavg = np.divide(msum, len(maleSpeakerArray))\n",
    "print(favg, mavg) \n",
    "stats.ttest_ind(mratios, fratios)"
   ]
  },
  {
   "cell_type": "markdown",
   "metadata": {},
   "source": [
    "For example, uncomment the following line to access _(age, gender)_ information for speaker 1 from language 1:"
   ]
  },
  {
   "cell_type": "code",
   "execution_count": 39,
   "metadata": {},
   "outputs": [
    {
     "data": {
      "text/plain": [
       "[('90', 'M')]"
      ]
     },
     "execution_count": 39,
     "metadata": {},
     "output_type": "execute_result"
    }
   ],
   "source": [
    " for language in range(1,len(speakerInfo)):\n",
    "     for speaker in range(1,len(speakerInfo[language])):\n",
    "         if(len(speakerInfo[language][speaker]) > 1):\n",
    "             print(\"bad news\")\n",
    " speakerInfo[1][1]"
   ]
  },
  {
   "cell_type": "code",
   "execution_count": 52,
   "metadata": {},
   "outputs": [
    {
     "name": "stdout",
     "output_type": "stream",
     "text": [
      "1000\n",
      "1.133512877079455\n",
      "[0.14488888888888896, 1.304, 0.8693333333333334, 1.1177142857142857, 1.304, 1.304, 1.304, 0.6863157894736841, 1.304, 1.1854545454545453]\n",
      "0.8544188143636425\n",
      "0.17260940032414912 0.12269938650306748\n"
     ]
    },
    {
     "data": {
      "text/plain": [
       "Ttest_indResult(statistic=6.3984849544675555, pvalue=1.949450424687526e-10)"
      ]
     },
     "execution_count": 52,
     "metadata": {},
     "output_type": "execute_result"
    }
   ],
   "source": [
    "mpermutations = []\n",
    "jumble_mspeakers = maleSpeakerArray\n",
    "fpermutations = []\n",
    "jumble_fspeakers = femaleSpeakerArray\n",
    "for x in range (0, 1000):\n",
    "    np.random.seed(x)\n",
    "    np.random.shuffle(jumble_fspeakers)\n",
    "    fspeaker_words = np.zeros(len(jumble_fspeakers))\n",
    "    for i in range (0, len(jumble_fspeakers)):\n",
    "        fspeaker_words[i] = jumble_fspeakers[x][2]\n",
    "        \n",
    "    fpermutations.append(np.divide(np.sum(fspeaker_words), 1000))\n",
    "for x in range (0, 1000):\n",
    "    np.random.seed(x)\n",
    "    np.random.shuffle(jumble_mspeakers)\n",
    "    mspeaker_words = np.zeros(len(jumble_mspeakers))\n",
    "    for i in range (0, len(jumble_mspeakers)):\n",
    "        mspeaker_words[i] = jumble_mspeakers[x][2]\n",
    "        \n",
    "    mpermutations.append(np.divide(np.sum(mspeaker_words), 1000))\n",
    "print(len(fpermutations))\n",
    "print(np.average(mpermutations))\n",
    "print(mpermutations[345:355])\n",
    "print(mavg)\n",
    "mcount = 0\n",
    "for x in mpermutations:\n",
    "    if (x <= mavg):\n",
    "        mcount += 1\n",
    "mp_value = mcount/len(maleSpeakerArray)\n",
    "\n",
    "fcount = 0\n",
    "for x in fpermutations:\n",
    "    if (x <= favg):\n",
    "        fcount += 1\n",
    "fp_value = fcount/len(femaleSpeakerArray)\n",
    "\n",
    "\n",
    "print(fp_value, mp_value)\n",
    "\n",
    "stats.ttest_ind(mpermutations, fpermutations)\n"
   ]
  },
  {
   "cell_type": "markdown",
   "metadata": {},
   "source": [
    "## Demo 6: Visualize color naming from an individual speaker\n",
    "\n",
    "> Naming patterns from a speaker can be visualized in the stimulus palette _(Munsell space)_.\n",
    "\n",
    "______________________________________________\n",
    "\n",
    "Extract an example speaker datum from an example language."
   ]
  },
  {
   "cell_type": "code",
   "execution_count": null,
   "metadata": {},
   "outputs": [],
   "source": [
    "lg61_spk5 = namingData[61][5]"
   ]
  },
  {
   "cell_type": "markdown",
   "metadata": {},
   "source": [
    "Extract color terms used by that speaker."
   ]
  },
  {
   "cell_type": "code",
   "execution_count": null,
   "metadata": {},
   "outputs": [],
   "source": [
    "terms = lg61_spk5.values()"
   ]
  },
  {
   "cell_type": "markdown",
   "metadata": {},
   "source": [
    "Encode the color terms into random numbers (for plotting purposes)."
   ]
  },
  {
   "cell_type": "code",
   "execution_count": null,
   "metadata": {},
   "outputs": [],
   "source": [
    "encoded_terms = map_array_to(terms, generate_random_values(terms))"
   ]
  },
  {
   "cell_type": "markdown",
   "metadata": {},
   "source": [
    "Visualize the color naming pattern for that speaker&mdash;each color patch corresponds to extension of a color term. Color scheme is randomized, but the partition of the color space is invariant."
   ]
  },
  {
   "cell_type": "code",
   "execution_count": null,
   "metadata": {},
   "outputs": [],
   "source": [
    "plotValues(encoded_terms)"
   ]
  },
  {
   "cell_type": "markdown",
   "metadata": {},
   "source": [
    "**Note**: `plotValues()` is a generic function for visualizing various kinds of information on the chart, suited to needs."
   ]
  },
  {
   "cell_type": "markdown",
   "metadata": {},
   "source": [
    "Now you are in a position to start exploring this data set - enjoy!"
   ]
  },
  {
   "cell_type": "code",
   "execution_count": null,
   "metadata": {},
   "outputs": [],
   "source": []
  }
 ],
 "metadata": {
  "anaconda-cloud": {},
  "kernelspec": {
   "display_name": "Python 3",
   "language": "python",
   "name": "python3"
  },
  "language_info": {
   "codemirror_mode": {
    "name": "ipython",
    "version": 3
   },
   "file_extension": ".py",
   "mimetype": "text/x-python",
   "name": "python",
   "nbconvert_exporter": "python",
   "pygments_lexer": "ipython3",
   "version": "3.5.2"
  }
 },
 "nbformat": 4,
 "nbformat_minor": 1
}
